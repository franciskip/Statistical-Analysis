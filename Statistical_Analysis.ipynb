{
  "nbformat": 4,
  "nbformat_minor": 0,
  "metadata": {
    "colab": {
      "name": "Statistical_Analysis.ipynb",
      "provenance": [],
      "collapsed_sections": [],
      "toc_visible": true
    },
    "kernelspec": {
      "display_name": "Python 3",
      "language": "python",
      "name": "python3"
    },
    "language_info": {
      "codemirror_mode": {
        "name": "ipython",
        "version": 3
      },
      "file_extension": ".py",
      "mimetype": "text/x-python",
      "name": "python",
      "nbconvert_exporter": "python",
      "pygments_lexer": "ipython3",
      "version": "3.7.4"
    }
  },
  "cells": [
    {
      "cell_type": "markdown",
      "metadata": {
        "id": "qifjha4zK-mG"
      },
      "source": [
        "# STATISTICAL ANALYSIS"
      ]
    },
    {
      "cell_type": "code",
      "metadata": {
        "colab": {
          "base_uri": "https://localhost:8080/",
          "height": 92
        },
        "id": "bVy_RS_VK-mM",
        "outputId": "5d570fca-62d1-4f59-95ec-cadd979b6996"
      },
      "source": [
        "%config Completer.use_jedi = False\n",
        "%autosave 20"
      ],
      "execution_count": null,
      "outputs": [
        {
          "output_type": "stream",
          "name": "stderr",
          "text": [
            "/usr/local/lib/python3.7/dist-packages/ipykernel_launcher.py:1: UserWarning: Config option `use_jedi` not recognized by `IPCompleter`.\n",
            "  \"\"\"Entry point for launching an IPython kernel.\n"
          ]
        },
        {
          "output_type": "display_data",
          "data": {
            "application/javascript": [
              "IPython.notebook.set_autosave_interval(20000)"
            ]
          },
          "metadata": {}
        },
        {
          "output_type": "stream",
          "name": "stdout",
          "text": [
            "Autosaving every 20 seconds\n"
          ]
        }
      ]
    },
    {
      "cell_type": "code",
      "metadata": {
        "id": "jZ-KaDEa4v_d"
      },
      "source": [
        ""
      ],
      "execution_count": null,
      "outputs": []
    },
    {
      "cell_type": "markdown",
      "metadata": {
        "id": "FTQdzwh8eH4n"
      },
      "source": [
        "### Importing Libraries and Data"
      ]
    },
    {
      "cell_type": "code",
      "metadata": {
        "id": "ZUso9ec_K-mS"
      },
      "source": [
        "from IPython.display import Image\n",
        "import pandas as pd # dataframe manipulation package\n",
        "import numpy as np # for numerical computations \n",
        "import matplotlib.pyplot as plt # data viz package\n",
        "\n",
        "%matplotlib inline\n",
        "import warnings\n",
        "warnings.filterwarnings(action='ignore') # turn off warnings"
      ],
      "execution_count": null,
      "outputs": []
    },
    {
      "cell_type": "code",
      "metadata": {
        "colab": {
          "base_uri": "https://localhost:8080/"
        },
        "id": "HYim1HCdd4O6",
        "outputId": "d0d6fc41-ef34-43e7-fe35-35dff534409b"
      },
      "source": [
        "from google import colab\n",
        "colab.drive.mount('/content/gdrive')"
      ],
      "execution_count": null,
      "outputs": [
        {
          "output_type": "stream",
          "name": "stdout",
          "text": [
            "Mounted at /content/gdrive\n"
          ]
        }
      ]
    },
    {
      "cell_type": "code",
      "metadata": {
        "id": "DgPTvxvfeM7H"
      },
      "source": [
        "path='/content/gdrive/My Drive/colab/'"
      ],
      "execution_count": null,
      "outputs": []
    },
    {
      "cell_type": "code",
      "metadata": {
        "colab": {
          "base_uri": "https://localhost:8080/",
          "height": 207
        },
        "id": "YCVXCt0qgfzh",
        "outputId": "c742c36d-6c97-4e50-d11d-58fc9c6ad8f0"
      },
      "source": [
        "\n",
        "modcloth= pd.read_json(path+'/modcloth_final_data.json',lines=True)\n",
        "modcloth.head()"
      ],
      "execution_count": null,
      "outputs": [
        {
          "output_type": "error",
          "ename": "NameError",
          "evalue": "ignored",
          "traceback": [
            "\u001b[0;31m---------------------------------------------------------------------------\u001b[0m",
            "\u001b[0;31mNameError\u001b[0m                                 Traceback (most recent call last)",
            "\u001b[0;32m<ipython-input-4-fd1e3c3a8abd>\u001b[0m in \u001b[0;36m<module>\u001b[0;34m()\u001b[0m\n\u001b[1;32m      1\u001b[0m \u001b[0;34m\u001b[0m\u001b[0m\n\u001b[0;32m----> 2\u001b[0;31m \u001b[0mmodcloth\u001b[0m\u001b[0;34m=\u001b[0m \u001b[0mpd\u001b[0m\u001b[0;34m.\u001b[0m\u001b[0mread_json\u001b[0m\u001b[0;34m(\u001b[0m\u001b[0mpath\u001b[0m\u001b[0;34m+\u001b[0m\u001b[0;34m'/modcloth_final_data.json'\u001b[0m\u001b[0;34m,\u001b[0m\u001b[0mlines\u001b[0m\u001b[0;34m=\u001b[0m\u001b[0;32mTrue\u001b[0m\u001b[0;34m)\u001b[0m\u001b[0;34m\u001b[0m\u001b[0;34m\u001b[0m\u001b[0m\n\u001b[0m\u001b[1;32m      3\u001b[0m \u001b[0mmodcloth\u001b[0m\u001b[0;34m.\u001b[0m\u001b[0mhead\u001b[0m\u001b[0;34m(\u001b[0m\u001b[0;34m)\u001b[0m\u001b[0;34m\u001b[0m\u001b[0;34m\u001b[0m\u001b[0m\n",
            "\u001b[0;31mNameError\u001b[0m: name 'pd' is not defined"
          ]
        }
      ]
    },
    {
      "cell_type": "markdown",
      "metadata": {
        "id": "iyh_2pJ8xfoN"
      },
      "source": [
        "##DESCRIPTIVE STATISTICS"
      ]
    },
    {
      "cell_type": "code",
      "metadata": {
        "colab": {
          "base_uri": "https://localhost:8080/",
          "height": 224
        },
        "id": "Er0PKjmIoEY-",
        "outputId": "3d310d1a-6313-489e-8339-5ac46254e53a"
      },
      "source": [
        "\n",
        "path='/content/gdrive/My Drive/colab/'\n",
        "house_prices = pd.read_csv(path+'/prices/housing.csv')\n",
        "house_prices.head()"
      ],
      "execution_count": null,
      "outputs": [
        {
          "output_type": "execute_result",
          "data": {
            "text/html": [
              "<div>\n",
              "<style scoped>\n",
              "    .dataframe tbody tr th:only-of-type {\n",
              "        vertical-align: middle;\n",
              "    }\n",
              "\n",
              "    .dataframe tbody tr th {\n",
              "        vertical-align: top;\n",
              "    }\n",
              "\n",
              "    .dataframe thead th {\n",
              "        text-align: right;\n",
              "    }\n",
              "</style>\n",
              "<table border=\"1\" class=\"dataframe\">\n",
              "  <thead>\n",
              "    <tr style=\"text-align: right;\">\n",
              "      <th></th>\n",
              "      <th>longitude</th>\n",
              "      <th>latitude</th>\n",
              "      <th>housing_median_age</th>\n",
              "      <th>total_rooms</th>\n",
              "      <th>total_bedrooms</th>\n",
              "      <th>population</th>\n",
              "      <th>households</th>\n",
              "      <th>median_income</th>\n",
              "      <th>median_house_value</th>\n",
              "      <th>ocean_proximity</th>\n",
              "    </tr>\n",
              "  </thead>\n",
              "  <tbody>\n",
              "    <tr>\n",
              "      <th>0</th>\n",
              "      <td>-122.23</td>\n",
              "      <td>37.88</td>\n",
              "      <td>41.0</td>\n",
              "      <td>880.0</td>\n",
              "      <td>129.0</td>\n",
              "      <td>322.0</td>\n",
              "      <td>126.0</td>\n",
              "      <td>8.3252</td>\n",
              "      <td>452600.0</td>\n",
              "      <td>NEAR BAY</td>\n",
              "    </tr>\n",
              "    <tr>\n",
              "      <th>1</th>\n",
              "      <td>-122.22</td>\n",
              "      <td>37.86</td>\n",
              "      <td>21.0</td>\n",
              "      <td>7099.0</td>\n",
              "      <td>1106.0</td>\n",
              "      <td>2401.0</td>\n",
              "      <td>1138.0</td>\n",
              "      <td>8.3014</td>\n",
              "      <td>358500.0</td>\n",
              "      <td>NEAR BAY</td>\n",
              "    </tr>\n",
              "    <tr>\n",
              "      <th>2</th>\n",
              "      <td>-122.24</td>\n",
              "      <td>37.85</td>\n",
              "      <td>52.0</td>\n",
              "      <td>1467.0</td>\n",
              "      <td>190.0</td>\n",
              "      <td>496.0</td>\n",
              "      <td>177.0</td>\n",
              "      <td>7.2574</td>\n",
              "      <td>352100.0</td>\n",
              "      <td>NEAR BAY</td>\n",
              "    </tr>\n",
              "    <tr>\n",
              "      <th>3</th>\n",
              "      <td>-122.25</td>\n",
              "      <td>37.85</td>\n",
              "      <td>52.0</td>\n",
              "      <td>1274.0</td>\n",
              "      <td>235.0</td>\n",
              "      <td>558.0</td>\n",
              "      <td>219.0</td>\n",
              "      <td>5.6431</td>\n",
              "      <td>341300.0</td>\n",
              "      <td>NEAR BAY</td>\n",
              "    </tr>\n",
              "    <tr>\n",
              "      <th>4</th>\n",
              "      <td>-122.25</td>\n",
              "      <td>37.85</td>\n",
              "      <td>52.0</td>\n",
              "      <td>1627.0</td>\n",
              "      <td>280.0</td>\n",
              "      <td>565.0</td>\n",
              "      <td>259.0</td>\n",
              "      <td>3.8462</td>\n",
              "      <td>342200.0</td>\n",
              "      <td>NEAR BAY</td>\n",
              "    </tr>\n",
              "  </tbody>\n",
              "</table>\n",
              "</div>"
            ],
            "text/plain": [
              "   longitude  latitude  ...  median_house_value  ocean_proximity\n",
              "0    -122.23     37.88  ...            452600.0         NEAR BAY\n",
              "1    -122.22     37.86  ...            358500.0         NEAR BAY\n",
              "2    -122.24     37.85  ...            352100.0         NEAR BAY\n",
              "3    -122.25     37.85  ...            341300.0         NEAR BAY\n",
              "4    -122.25     37.85  ...            342200.0         NEAR BAY\n",
              "\n",
              "[5 rows x 10 columns]"
            ]
          },
          "metadata": {},
          "execution_count": 4
        }
      ]
    },
    {
      "cell_type": "markdown",
      "metadata": {
        "id": "KjmbXXVuDOd-"
      },
      "source": [
        "####Finding measures of central tendency and variability"
      ]
    },
    {
      "cell_type": "code",
      "metadata": {
        "colab": {
          "base_uri": "https://localhost:8080/"
        },
        "id": "SWyBcvDbuS_-",
        "outputId": "dd1752b0-dc9f-47c8-cf3a-5a578464daa3"
      },
      "source": [
        "house_prices.columns"
      ],
      "execution_count": null,
      "outputs": [
        {
          "output_type": "execute_result",
          "data": {
            "text/plain": [
              "Index(['longitude', 'latitude', 'housing_median_age', 'total_rooms',\n",
              "       'total_bedrooms', 'population', 'households', 'median_income',\n",
              "       'median_house_value', 'ocean_proximity'],\n",
              "      dtype='object')"
            ]
          },
          "metadata": {
            "tags": []
          },
          "execution_count": 91
        }
      ]
    },
    {
      "cell_type": "markdown",
      "metadata": {
        "id": "fqprwRqZuF3d"
      },
      "source": [
        "1.**Import housing dataset and find the mean, median, mode, variance and standard deviation of 'total_bedrooms', 'population', 'households', 'median_income','median_house_value'**\n",
        "\n",
        "2.**Groupby ocean_proximity and find the mean of total_bedrooms 'median_income','median_house_value'**\n",
        "\n",
        "3.**Groupby ocean_proximity and find the mean,mean, median,and standard deviation of total_bedrooms 'median_income','median_house_value'**\n",
        "\n",
        "4.**find the interquartile range for total_bedrooms 'median_income','median_house_value'**\n"
      ]
    },
    {
      "cell_type": "code",
      "metadata": {
        "id": "uk0buLw9uoEo",
        "colab": {
          "base_uri": "https://localhost:8080/",
          "height": 283
        },
        "outputId": "5f4b3fbd-56ce-4dbf-ab76-c82a242e2edb"
      },
      "source": [
        "# multiple aggregation functions can be applied simultaneously\n",
        "house_prices.groupby('ocean_proximity')['total_bedrooms','median_income','median_house_value'].agg(['median','mean','std','min','max'])"
      ],
      "execution_count": null,
      "outputs": [
        {
          "output_type": "execute_result",
          "data": {
            "text/html": [
              "<div>\n",
              "<style scoped>\n",
              "    .dataframe tbody tr th:only-of-type {\n",
              "        vertical-align: middle;\n",
              "    }\n",
              "\n",
              "    .dataframe tbody tr th {\n",
              "        vertical-align: top;\n",
              "    }\n",
              "\n",
              "    .dataframe thead tr th {\n",
              "        text-align: left;\n",
              "    }\n",
              "\n",
              "    .dataframe thead tr:last-of-type th {\n",
              "        text-align: right;\n",
              "    }\n",
              "</style>\n",
              "<table border=\"1\" class=\"dataframe\">\n",
              "  <thead>\n",
              "    <tr>\n",
              "      <th></th>\n",
              "      <th colspan=\"5\" halign=\"left\">total_bedrooms</th>\n",
              "      <th colspan=\"5\" halign=\"left\">median_income</th>\n",
              "      <th colspan=\"5\" halign=\"left\">median_house_value</th>\n",
              "    </tr>\n",
              "    <tr>\n",
              "      <th></th>\n",
              "      <th>median</th>\n",
              "      <th>mean</th>\n",
              "      <th>std</th>\n",
              "      <th>min</th>\n",
              "      <th>max</th>\n",
              "      <th>median</th>\n",
              "      <th>mean</th>\n",
              "      <th>std</th>\n",
              "      <th>min</th>\n",
              "      <th>max</th>\n",
              "      <th>median</th>\n",
              "      <th>mean</th>\n",
              "      <th>std</th>\n",
              "      <th>min</th>\n",
              "      <th>max</th>\n",
              "    </tr>\n",
              "    <tr>\n",
              "      <th>ocean_proximity</th>\n",
              "      <th></th>\n",
              "      <th></th>\n",
              "      <th></th>\n",
              "      <th></th>\n",
              "      <th></th>\n",
              "      <th></th>\n",
              "      <th></th>\n",
              "      <th></th>\n",
              "      <th></th>\n",
              "      <th></th>\n",
              "      <th></th>\n",
              "      <th></th>\n",
              "      <th></th>\n",
              "      <th></th>\n",
              "      <th></th>\n",
              "    </tr>\n",
              "  </thead>\n",
              "  <tbody>\n",
              "    <tr>\n",
              "      <th>&lt;1H OCEAN</th>\n",
              "      <td>438.0</td>\n",
              "      <td>546.539185</td>\n",
              "      <td>427.911417</td>\n",
              "      <td>5.0</td>\n",
              "      <td>6445.0</td>\n",
              "      <td>3.87500</td>\n",
              "      <td>4.230682</td>\n",
              "      <td>2.001223</td>\n",
              "      <td>0.4999</td>\n",
              "      <td>15.0001</td>\n",
              "      <td>214850.0</td>\n",
              "      <td>240084.285464</td>\n",
              "      <td>106124.292213</td>\n",
              "      <td>17500.0</td>\n",
              "      <td>500001.0</td>\n",
              "    </tr>\n",
              "    <tr>\n",
              "      <th>INLAND</th>\n",
              "      <td>423.0</td>\n",
              "      <td>533.881619</td>\n",
              "      <td>446.117778</td>\n",
              "      <td>2.0</td>\n",
              "      <td>6210.0</td>\n",
              "      <td>2.98770</td>\n",
              "      <td>3.208996</td>\n",
              "      <td>1.437465</td>\n",
              "      <td>0.4999</td>\n",
              "      <td>15.0001</td>\n",
              "      <td>108500.0</td>\n",
              "      <td>124805.392001</td>\n",
              "      <td>70007.908494</td>\n",
              "      <td>14999.0</td>\n",
              "      <td>500001.0</td>\n",
              "    </tr>\n",
              "    <tr>\n",
              "      <th>ISLAND</th>\n",
              "      <td>512.0</td>\n",
              "      <td>420.400000</td>\n",
              "      <td>169.320111</td>\n",
              "      <td>214.0</td>\n",
              "      <td>591.0</td>\n",
              "      <td>2.73610</td>\n",
              "      <td>2.744420</td>\n",
              "      <td>0.444180</td>\n",
              "      <td>2.1579</td>\n",
              "      <td>3.3906</td>\n",
              "      <td>414700.0</td>\n",
              "      <td>380440.000000</td>\n",
              "      <td>80559.561816</td>\n",
              "      <td>287500.0</td>\n",
              "      <td>450000.0</td>\n",
              "    </tr>\n",
              "    <tr>\n",
              "      <th>NEAR BAY</th>\n",
              "      <td>423.0</td>\n",
              "      <td>514.182819</td>\n",
              "      <td>367.887605</td>\n",
              "      <td>1.0</td>\n",
              "      <td>3226.0</td>\n",
              "      <td>3.81865</td>\n",
              "      <td>4.172885</td>\n",
              "      <td>2.017427</td>\n",
              "      <td>0.4999</td>\n",
              "      <td>15.0001</td>\n",
              "      <td>233800.0</td>\n",
              "      <td>259212.311790</td>\n",
              "      <td>122818.537064</td>\n",
              "      <td>22500.0</td>\n",
              "      <td>500001.0</td>\n",
              "    </tr>\n",
              "    <tr>\n",
              "      <th>NEAR OCEAN</th>\n",
              "      <td>464.0</td>\n",
              "      <td>538.615677</td>\n",
              "      <td>376.320045</td>\n",
              "      <td>3.0</td>\n",
              "      <td>4585.0</td>\n",
              "      <td>3.64705</td>\n",
              "      <td>4.005785</td>\n",
              "      <td>2.010558</td>\n",
              "      <td>0.5360</td>\n",
              "      <td>15.0001</td>\n",
              "      <td>229450.0</td>\n",
              "      <td>249433.977427</td>\n",
              "      <td>122477.145927</td>\n",
              "      <td>22500.0</td>\n",
              "      <td>500001.0</td>\n",
              "    </tr>\n",
              "  </tbody>\n",
              "</table>\n",
              "</div>"
            ],
            "text/plain": [
              "                total_bedrooms              ... median_house_value          \n",
              "                        median        mean  ...                min       max\n",
              "ocean_proximity                             ...                             \n",
              "<1H OCEAN                438.0  546.539185  ...            17500.0  500001.0\n",
              "INLAND                   423.0  533.881619  ...            14999.0  500001.0\n",
              "ISLAND                   512.0  420.400000  ...           287500.0  450000.0\n",
              "NEAR BAY                 423.0  514.182819  ...            22500.0  500001.0\n",
              "NEAR OCEAN               464.0  538.615677  ...            22500.0  500001.0\n",
              "\n",
              "[5 rows x 15 columns]"
            ]
          },
          "metadata": {
            "tags": []
          },
          "execution_count": 98
        }
      ]
    },
    {
      "cell_type": "code",
      "metadata": {
        "id": "KKg0BBY-DAyW"
      },
      "source": [
        ""
      ],
      "execution_count": null,
      "outputs": []
    },
    {
      "cell_type": "markdown",
      "metadata": {
        "id": "NfwXUdy2DBJ2"
      },
      "source": [
        "####Finding Quartiles, Quantiles, and Interquartile Range"
      ]
    },
    {
      "cell_type": "markdown",
      "metadata": {
        "id": "2k9Cnq3tD17S"
      },
      "source": [
        "Quantiles are cut points dividing the range of a probability distribution into continuous intervals with equal probabilities, or dividing the observations in a sample in the same way. "
      ]
    },
    {
      "cell_type": "code",
      "metadata": {
        "colab": {
          "base_uri": "https://localhost:8080/"
        },
        "id": "KkrougvWFGvC",
        "outputId": "213b5041-879a-4ea5-a890-17409eff62c0"
      },
      "source": [
        "# First quartile (Q1)\n",
        "Q1 = np.percentile(house_prices.total_rooms, 25)\n",
        "print(Q1)\n",
        "  \n",
        "# Third quartile (Q3)\n",
        "Q3 = np.percentile(house_prices.total_rooms, 75)\n",
        "print(Q3)\n",
        "# Interquaritle range (IQR)\n",
        "IQR = Q3 - Q1\n",
        "  \n",
        "print(IQR)"
      ],
      "execution_count": null,
      "outputs": [
        {
          "output_type": "stream",
          "text": [
            "1447.75\n",
            "3148.0\n",
            "1700.25\n"
          ],
          "name": "stdout"
        }
      ]
    },
    {
      "cell_type": "code",
      "metadata": {
        "colab": {
          "base_uri": "https://localhost:8080/"
        },
        "id": "n_vr5RvHlwVX",
        "outputId": "a780fe22-5a77-41ca-994f-ea0df267191b"
      },
      "source": [
        "house_prices.info()"
      ],
      "execution_count": null,
      "outputs": [
        {
          "output_type": "stream",
          "text": [
            "<class 'pandas.core.frame.DataFrame'>\n",
            "RangeIndex: 20640 entries, 0 to 20639\n",
            "Data columns (total 10 columns):\n",
            " #   Column              Non-Null Count  Dtype  \n",
            "---  ------              --------------  -----  \n",
            " 0   longitude           20640 non-null  float64\n",
            " 1   latitude            20640 non-null  float64\n",
            " 2   housing_median_age  20640 non-null  float64\n",
            " 3   total_rooms         20640 non-null  float64\n",
            " 4   total_bedrooms      20433 non-null  float64\n",
            " 5   population          20640 non-null  float64\n",
            " 6   households          20640 non-null  float64\n",
            " 7   median_income       20640 non-null  float64\n",
            " 8   median_house_value  20640 non-null  float64\n",
            " 9   ocean_proximity     20640 non-null  object \n",
            "dtypes: float64(9), object(1)\n",
            "memory usage: 1.6+ MB\n"
          ],
          "name": "stdout"
        }
      ]
    },
    {
      "cell_type": "code",
      "metadata": {
        "colab": {
          "base_uri": "https://localhost:8080/"
        },
        "id": "uZGAaVmsGF9d",
        "outputId": "27fde878-169a-4f33-8330-998c5a0d1517"
      },
      "source": [
        "\n",
        "# First quartile (Q1)\n",
        "Q1 = np.percentile(house_prices.median_income, 25)\n",
        "  \n",
        "# Third quartile (Q3)\n",
        "Q3 = np.percentile(house_prices.median_income, 75)\n",
        "  \n",
        "# Interquaritle range (IQR)\n",
        "IQR = Q3 - Q1\n",
        "  \n",
        "print(IQR)"
      ],
      "execution_count": null,
      "outputs": [
        {
          "output_type": "stream",
          "text": [
            "2.17985\n"
          ],
          "name": "stdout"
        }
      ]
    },
    {
      "cell_type": "code",
      "metadata": {
        "colab": {
          "base_uri": "https://localhost:8080/"
        },
        "id": "sAZo4oJ5GRvM",
        "outputId": "75fb72a2-862a-4616-e735-99db885b4f3c"
      },
      "source": [
        "# First quartile (Q1)\n",
        "Q1 = np.percentile(house_prices.median_house_value, 25)\n",
        "  \n",
        "# Third quartile (Q3)\n",
        "Q3 = np.percentile(house_prices.median_house_value, 75)\n",
        "  \n",
        "# Interquaritle range (IQR)\n",
        "IQR = Q3 - Q1\n",
        "  \n",
        "print(IQR)"
      ],
      "execution_count": null,
      "outputs": [
        {
          "output_type": "stream",
          "text": [
            "145125.0\n"
          ],
          "name": "stdout"
        }
      ]
    },
    {
      "cell_type": "code",
      "metadata": {
        "id": "Ej1g1jd6HQPH"
      },
      "source": [
        "from scipy import stats\n"
      ],
      "execution_count": null,
      "outputs": []
    },
    {
      "cell_type": "code",
      "metadata": {
        "colab": {
          "base_uri": "https://localhost:8080/"
        },
        "id": "eSKqstzNHpO3",
        "outputId": "2cf6af28-3d6e-4da3-85bf-415664be2540"
      },
      "source": [
        "stats.iqr(house_prices.median_house_value,interpolation=\"linear\")\n"
      ],
      "execution_count": null,
      "outputs": [
        {
          "output_type": "execute_result",
          "data": {
            "text/plain": [
              "145125.0"
            ]
          },
          "metadata": {
            "tags": []
          },
          "execution_count": 14
        }
      ]
    },
    {
      "cell_type": "code",
      "metadata": {
        "colab": {
          "base_uri": "https://localhost:8080/"
        },
        "id": "rQv5X6ItHv_0",
        "outputId": "79a6783c-7727-467b-e29d-61325c1656d4"
      },
      "source": [
        "hig=stats.iqr(house_prices.median_income,interpolation=\"linear\")\n",
        "print(hig)\n"
      ],
      "execution_count": null,
      "outputs": [
        {
          "output_type": "stream",
          "text": [
            "2.17985\n"
          ],
          "name": "stdout"
        }
      ]
    },
    {
      "cell_type": "code",
      "metadata": {
        "colab": {
          "base_uri": "https://localhost:8080/"
        },
        "id": "skygC1UTH6Ru",
        "outputId": "66152777-f48a-44cb-ff29-eedfa337d77d"
      },
      "source": [
        "low=stats.iqr(house_prices.total_rooms,interpolation=\"linear\")\n",
        "print(low)\n"
      ],
      "execution_count": null,
      "outputs": [
        {
          "output_type": "stream",
          "text": [
            "1700.25\n"
          ],
          "name": "stdout"
        }
      ]
    },
    {
      "cell_type": "code",
      "metadata": {
        "colab": {
          "base_uri": "https://localhost:8080/",
          "height": 314
        },
        "id": "DpnV78xxCoch",
        "outputId": "7ac6a842-9061-41a2-a888-45694b593b68"
      },
      "source": [
        "house_prices.describe()"
      ],
      "execution_count": null,
      "outputs": [
        {
          "output_type": "execute_result",
          "data": {
            "text/html": [
              "<div>\n",
              "<style scoped>\n",
              "    .dataframe tbody tr th:only-of-type {\n",
              "        vertical-align: middle;\n",
              "    }\n",
              "\n",
              "    .dataframe tbody tr th {\n",
              "        vertical-align: top;\n",
              "    }\n",
              "\n",
              "    .dataframe thead th {\n",
              "        text-align: right;\n",
              "    }\n",
              "</style>\n",
              "<table border=\"1\" class=\"dataframe\">\n",
              "  <thead>\n",
              "    <tr style=\"text-align: right;\">\n",
              "      <th></th>\n",
              "      <th>longitude</th>\n",
              "      <th>latitude</th>\n",
              "      <th>housing_median_age</th>\n",
              "      <th>total_rooms</th>\n",
              "      <th>total_bedrooms</th>\n",
              "      <th>population</th>\n",
              "      <th>households</th>\n",
              "      <th>median_income</th>\n",
              "      <th>median_house_value</th>\n",
              "    </tr>\n",
              "  </thead>\n",
              "  <tbody>\n",
              "    <tr>\n",
              "      <th>count</th>\n",
              "      <td>20640.000000</td>\n",
              "      <td>20640.000000</td>\n",
              "      <td>20640.000000</td>\n",
              "      <td>20640.000000</td>\n",
              "      <td>20433.000000</td>\n",
              "      <td>20640.000000</td>\n",
              "      <td>20640.000000</td>\n",
              "      <td>20640.000000</td>\n",
              "      <td>20640.000000</td>\n",
              "    </tr>\n",
              "    <tr>\n",
              "      <th>mean</th>\n",
              "      <td>-119.569704</td>\n",
              "      <td>35.631861</td>\n",
              "      <td>28.639486</td>\n",
              "      <td>2635.763081</td>\n",
              "      <td>537.870553</td>\n",
              "      <td>1425.476744</td>\n",
              "      <td>499.539680</td>\n",
              "      <td>3.870671</td>\n",
              "      <td>206855.816909</td>\n",
              "    </tr>\n",
              "    <tr>\n",
              "      <th>std</th>\n",
              "      <td>2.003532</td>\n",
              "      <td>2.135952</td>\n",
              "      <td>12.585558</td>\n",
              "      <td>2181.615252</td>\n",
              "      <td>421.385070</td>\n",
              "      <td>1132.462122</td>\n",
              "      <td>382.329753</td>\n",
              "      <td>1.899822</td>\n",
              "      <td>115395.615874</td>\n",
              "    </tr>\n",
              "    <tr>\n",
              "      <th>min</th>\n",
              "      <td>-124.350000</td>\n",
              "      <td>32.540000</td>\n",
              "      <td>1.000000</td>\n",
              "      <td>2.000000</td>\n",
              "      <td>1.000000</td>\n",
              "      <td>3.000000</td>\n",
              "      <td>1.000000</td>\n",
              "      <td>0.499900</td>\n",
              "      <td>14999.000000</td>\n",
              "    </tr>\n",
              "    <tr>\n",
              "      <th>25%</th>\n",
              "      <td>-121.800000</td>\n",
              "      <td>33.930000</td>\n",
              "      <td>18.000000</td>\n",
              "      <td>1447.750000</td>\n",
              "      <td>296.000000</td>\n",
              "      <td>787.000000</td>\n",
              "      <td>280.000000</td>\n",
              "      <td>2.563400</td>\n",
              "      <td>119600.000000</td>\n",
              "    </tr>\n",
              "    <tr>\n",
              "      <th>50%</th>\n",
              "      <td>-118.490000</td>\n",
              "      <td>34.260000</td>\n",
              "      <td>29.000000</td>\n",
              "      <td>2127.000000</td>\n",
              "      <td>435.000000</td>\n",
              "      <td>1166.000000</td>\n",
              "      <td>409.000000</td>\n",
              "      <td>3.534800</td>\n",
              "      <td>179700.000000</td>\n",
              "    </tr>\n",
              "    <tr>\n",
              "      <th>75%</th>\n",
              "      <td>-118.010000</td>\n",
              "      <td>37.710000</td>\n",
              "      <td>37.000000</td>\n",
              "      <td>3148.000000</td>\n",
              "      <td>647.000000</td>\n",
              "      <td>1725.000000</td>\n",
              "      <td>605.000000</td>\n",
              "      <td>4.743250</td>\n",
              "      <td>264725.000000</td>\n",
              "    </tr>\n",
              "    <tr>\n",
              "      <th>max</th>\n",
              "      <td>-114.310000</td>\n",
              "      <td>41.950000</td>\n",
              "      <td>52.000000</td>\n",
              "      <td>39320.000000</td>\n",
              "      <td>6445.000000</td>\n",
              "      <td>35682.000000</td>\n",
              "      <td>6082.000000</td>\n",
              "      <td>15.000100</td>\n",
              "      <td>500001.000000</td>\n",
              "    </tr>\n",
              "  </tbody>\n",
              "</table>\n",
              "</div>"
            ],
            "text/plain": [
              "          longitude      latitude  ...  median_income  median_house_value\n",
              "count  20640.000000  20640.000000  ...   20640.000000        20640.000000\n",
              "mean    -119.569704     35.631861  ...       3.870671       206855.816909\n",
              "std        2.003532      2.135952  ...       1.899822       115395.615874\n",
              "min     -124.350000     32.540000  ...       0.499900        14999.000000\n",
              "25%     -121.800000     33.930000  ...       2.563400       119600.000000\n",
              "50%     -118.490000     34.260000  ...       3.534800       179700.000000\n",
              "75%     -118.010000     37.710000  ...       4.743250       264725.000000\n",
              "max     -114.310000     41.950000  ...      15.000100       500001.000000\n",
              "\n",
              "[8 rows x 9 columns]"
            ]
          },
          "metadata": {
            "tags": []
          },
          "execution_count": 132
        }
      ]
    },
    {
      "cell_type": "code",
      "metadata": {
        "colab": {
          "base_uri": "https://localhost:8080/"
        },
        "id": "Omwui4qGCk1a",
        "outputId": "43c23ed6-b991-42ad-d5a7-24250c82a4c4"
      },
      "source": [
        "house_prices.quantile(0.75, numeric_only=True)"
      ],
      "execution_count": null,
      "outputs": [
        {
          "output_type": "execute_result",
          "data": {
            "text/plain": [
              "longitude               -118.01000\n",
              "latitude                  37.71000\n",
              "housing_median_age        37.00000\n",
              "total_rooms             3148.00000\n",
              "total_bedrooms           647.00000\n",
              "population              1725.00000\n",
              "households               605.00000\n",
              "median_income              4.74325\n",
              "median_house_value    264725.00000\n",
              "Name: 0.75, dtype: float64"
            ]
          },
          "metadata": {
            "tags": []
          },
          "execution_count": 118
        }
      ]
    },
    {
      "cell_type": "code",
      "metadata": {
        "colab": {
          "base_uri": "https://localhost:8080/"
        },
        "id": "DaczA-q3BpkG",
        "outputId": "c75f8ee6-53d4-4a5c-cfe6-a2c67259176c"
      },
      "source": [
        "house_prices.quantile(0.5, numeric_only=True)"
      ],
      "execution_count": null,
      "outputs": [
        {
          "output_type": "execute_result",
          "data": {
            "text/plain": [
              "longitude               -118.4900\n",
              "latitude                  34.2600\n",
              "housing_median_age        29.0000\n",
              "total_rooms             2127.0000\n",
              "total_bedrooms           435.0000\n",
              "population              1166.0000\n",
              "households               409.0000\n",
              "median_income              3.5348\n",
              "median_house_value    179700.0000\n",
              "Name: 0.5, dtype: float64"
            ]
          },
          "metadata": {
            "tags": []
          },
          "execution_count": 116
        }
      ]
    },
    {
      "cell_type": "markdown",
      "metadata": {
        "id": "Td_NYI-FxuUV"
      },
      "source": [
        "##A/B TESTING (INFERNTIAL STATISTICS)"
      ]
    },
    {
      "cell_type": "code",
      "metadata": {
        "id": "a5O9q5k8xwMw"
      },
      "source": [
        ""
      ],
      "execution_count": null,
      "outputs": []
    },
    {
      "cell_type": "markdown",
      "metadata": {
        "id": "-4ImEJRiN0Dn"
      },
      "source": [
        "###T-TEST"
      ]
    },
    {
      "cell_type": "code",
      "metadata": {
        "colab": {
          "base_uri": "https://localhost:8080/",
          "height": 272
        },
        "id": "ihYiyN7qNkQ4",
        "outputId": "ae937903-b765-4c8e-8c00-571427f22acf"
      },
      "source": [
        "path='/content/gdrive/My Drive/colab/'\n",
        "train_data = pd.read_csv(path+'/titanic_train.csv')\n",
        "train_data.head()"
      ],
      "execution_count": null,
      "outputs": [
        {
          "output_type": "execute_result",
          "data": {
            "text/html": [
              "<div>\n",
              "<style scoped>\n",
              "    .dataframe tbody tr th:only-of-type {\n",
              "        vertical-align: middle;\n",
              "    }\n",
              "\n",
              "    .dataframe tbody tr th {\n",
              "        vertical-align: top;\n",
              "    }\n",
              "\n",
              "    .dataframe thead th {\n",
              "        text-align: right;\n",
              "    }\n",
              "</style>\n",
              "<table border=\"1\" class=\"dataframe\">\n",
              "  <thead>\n",
              "    <tr style=\"text-align: right;\">\n",
              "      <th></th>\n",
              "      <th>PassengerId</th>\n",
              "      <th>Survived</th>\n",
              "      <th>Pclass</th>\n",
              "      <th>Name</th>\n",
              "      <th>Sex</th>\n",
              "      <th>Age</th>\n",
              "      <th>SibSp</th>\n",
              "      <th>Parch</th>\n",
              "      <th>Ticket</th>\n",
              "      <th>Fare</th>\n",
              "      <th>Cabin</th>\n",
              "      <th>Embarked</th>\n",
              "    </tr>\n",
              "  </thead>\n",
              "  <tbody>\n",
              "    <tr>\n",
              "      <th>0</th>\n",
              "      <td>1</td>\n",
              "      <td>0</td>\n",
              "      <td>3</td>\n",
              "      <td>Braund, Mr. Owen Harris</td>\n",
              "      <td>male</td>\n",
              "      <td>22.0</td>\n",
              "      <td>1</td>\n",
              "      <td>0</td>\n",
              "      <td>A/5 21171</td>\n",
              "      <td>7.2500</td>\n",
              "      <td>NaN</td>\n",
              "      <td>S</td>\n",
              "    </tr>\n",
              "    <tr>\n",
              "      <th>1</th>\n",
              "      <td>2</td>\n",
              "      <td>1</td>\n",
              "      <td>1</td>\n",
              "      <td>Cumings, Mrs. John Bradley (Florence Briggs Th...</td>\n",
              "      <td>female</td>\n",
              "      <td>38.0</td>\n",
              "      <td>1</td>\n",
              "      <td>0</td>\n",
              "      <td>PC 17599</td>\n",
              "      <td>71.2833</td>\n",
              "      <td>C85</td>\n",
              "      <td>C</td>\n",
              "    </tr>\n",
              "    <tr>\n",
              "      <th>2</th>\n",
              "      <td>3</td>\n",
              "      <td>1</td>\n",
              "      <td>3</td>\n",
              "      <td>Heikkinen, Miss. Laina</td>\n",
              "      <td>female</td>\n",
              "      <td>26.0</td>\n",
              "      <td>0</td>\n",
              "      <td>0</td>\n",
              "      <td>STON/O2. 3101282</td>\n",
              "      <td>7.9250</td>\n",
              "      <td>NaN</td>\n",
              "      <td>S</td>\n",
              "    </tr>\n",
              "    <tr>\n",
              "      <th>3</th>\n",
              "      <td>4</td>\n",
              "      <td>1</td>\n",
              "      <td>1</td>\n",
              "      <td>Futrelle, Mrs. Jacques Heath (Lily May Peel)</td>\n",
              "      <td>female</td>\n",
              "      <td>35.0</td>\n",
              "      <td>1</td>\n",
              "      <td>0</td>\n",
              "      <td>113803</td>\n",
              "      <td>53.1000</td>\n",
              "      <td>C123</td>\n",
              "      <td>S</td>\n",
              "    </tr>\n",
              "    <tr>\n",
              "      <th>4</th>\n",
              "      <td>5</td>\n",
              "      <td>0</td>\n",
              "      <td>3</td>\n",
              "      <td>Allen, Mr. William Henry</td>\n",
              "      <td>male</td>\n",
              "      <td>35.0</td>\n",
              "      <td>0</td>\n",
              "      <td>0</td>\n",
              "      <td>373450</td>\n",
              "      <td>8.0500</td>\n",
              "      <td>NaN</td>\n",
              "      <td>S</td>\n",
              "    </tr>\n",
              "  </tbody>\n",
              "</table>\n",
              "</div>"
            ],
            "text/plain": [
              "   PassengerId  Survived  Pclass  ...     Fare Cabin  Embarked\n",
              "0            1         0       3  ...   7.2500   NaN         S\n",
              "1            2         1       1  ...  71.2833   C85         C\n",
              "2            3         1       3  ...   7.9250   NaN         S\n",
              "3            4         1       1  ...  53.1000  C123         S\n",
              "4            5         0       3  ...   8.0500   NaN         S\n",
              "\n",
              "[5 rows x 12 columns]"
            ]
          },
          "metadata": {},
          "execution_count": 43
        }
      ]
    },
    {
      "cell_type": "markdown",
      "metadata": {
        "id": "4-sLC3Q3ROsy"
      },
      "source": [
        "####One Sample T_testt"
      ]
    },
    {
      "cell_type": "code",
      "metadata": {
        "id": "DiZxHIG1N63R"
      },
      "source": [
        "import scipy\n",
        "from scipy.stats import ttest_1samp"
      ],
      "execution_count": null,
      "outputs": []
    },
    {
      "cell_type": "code",
      "metadata": {
        "colab": {
          "base_uri": "https://localhost:8080/"
        },
        "id": "-zNQxq7r_ehB",
        "outputId": "8d1547e4-8126-4e8a-b2ec-4c047e30f3be"
      },
      "source": [
        "train_data.Fare.mean()"
      ],
      "execution_count": null,
      "outputs": [
        {
          "output_type": "execute_result",
          "data": {
            "text/plain": [
              "32.2042079685746"
            ]
          },
          "metadata": {
            "tags": []
          },
          "execution_count": 37
        }
      ]
    },
    {
      "cell_type": "code",
      "metadata": {
        "colab": {
          "base_uri": "https://localhost:8080/"
        },
        "id": "HNuvwNRlNoWe",
        "outputId": "f6fd972d-c2d1-46d2-e9be-8220a0a6c5f1"
      },
      "source": [
        "tscore, pvalue = ttest_1samp(train_data.Fare,popmean=29)\n",
        "# selecionando o nível de significãncia que por convenção é 0,05\n",
        "alpha = 0.05\n",
        "# Aceita ou rejeita H0?\n",
        "print('t_score: {:.4f}'.format(tscore))\n",
        "print('pvalue: {:.4f}' .format(pvalue))\n",
        "print('level of significance: {:.2f}' .format(alpha))\n",
        "# print('level of significe=%.2f, p_value=%.2f, chi_2=%.2f' % (alpha, p_value,tscore))\n",
        "if pvalue >= alpha:\n",
        "    print('There is no significance difference ie they are homogenous. (Acceptt H0) /fail to reject H0')\n",
        "else:\n",
        "    print('Ha indicates that there is significant difference ie they re heterogenous\"  (reject H0 and accept H1)')"
      ],
      "execution_count": null,
      "outputs": [
        {
          "output_type": "stream",
          "text": [
            "t_score: 1.9247\n",
            "pvalue: 0.0546\n",
            "level of significance: 0.05\n",
            "There is no significance difference ie they are homogenous. (Acceptt H0) /fail to reject H0\n"
          ],
          "name": "stdout"
        }
      ]
    },
    {
      "cell_type": "code",
      "metadata": {
        "colab": {
          "base_uri": "https://localhost:8080/"
        },
        "id": "G0WcJU03-c_U",
        "outputId": "7d32b3e6-a09f-4574-e7ef-73cdaaf16c9e"
      },
      "source": [
        "house_prices.info()"
      ],
      "execution_count": null,
      "outputs": [
        {
          "output_type": "stream",
          "text": [
            "<class 'pandas.core.frame.DataFrame'>\n",
            "RangeIndex: 20640 entries, 0 to 20639\n",
            "Data columns (total 10 columns):\n",
            " #   Column              Non-Null Count  Dtype  \n",
            "---  ------              --------------  -----  \n",
            " 0   longitude           20640 non-null  float64\n",
            " 1   latitude            20640 non-null  float64\n",
            " 2   housing_median_age  20640 non-null  float64\n",
            " 3   total_rooms         20640 non-null  float64\n",
            " 4   total_bedrooms      20433 non-null  float64\n",
            " 5   population          20640 non-null  float64\n",
            " 6   households          20640 non-null  float64\n",
            " 7   median_income       20640 non-null  float64\n",
            " 8   median_house_value  20640 non-null  float64\n",
            " 9   ocean_proximity     20640 non-null  object \n",
            "dtypes: float64(9), object(1)\n",
            "memory usage: 1.6+ MB\n"
          ],
          "name": "stdout"
        }
      ]
    },
    {
      "cell_type": "code",
      "metadata": {
        "colab": {
          "base_uri": "https://localhost:8080/"
        },
        "id": "uXwQartM-u3t",
        "outputId": "701e844c-7adb-48cf-c288-c7526a13a295"
      },
      "source": [
        "house_prices.median_house_value.mode()"
      ],
      "execution_count": null,
      "outputs": [
        {
          "output_type": "execute_result",
          "data": {
            "text/plain": [
              "0    500001.0\n",
              "dtype: float64"
            ]
          },
          "metadata": {
            "tags": []
          },
          "execution_count": 33
        }
      ]
    },
    {
      "cell_type": "code",
      "metadata": {
        "colab": {
          "base_uri": "https://localhost:8080/"
        },
        "id": "EkVx8_SN-nHd",
        "outputId": "1914b097-1308-4d0b-eec3-366b30d5b729"
      },
      "source": [
        "tscore, pvalue = ttest_1samp(house_prices.median_house_value,popmean=500001.0)\n",
        "\n",
        "# selecionando o nível de significãncia que por convenção é 0,05\n",
        "alpha = 0.05\n",
        "# Aceita ou rejeita H0?\n",
        "print('t_score: {:.4f}'.format(tscore))\n",
        "print('pvalue: {:.4f}' .format(pvalue))\n",
        "print('level of significance: {:.2f}' .format(alpha))\n",
        "# print('level of significe=%.2f, p_value=%.2f, chi_2=%.2f' % (alpha, p_value,tscore))\n",
        "if pvalue >= alpha:\n",
        "    print('There is no signd=ificance difference ie they are homogenous. (Acceptt H0)')\n",
        "else:\n",
        "    print('Ha indicates that there is significant difference ie they re heterogenous\"  (reject H0 and accept H1)')"
      ],
      "execution_count": null,
      "outputs": [
        {
          "output_type": "stream",
          "text": [
            "t_score: -364.9625\n",
            "pvalue: 0.0000\n",
            "level of significance: 0.05\n",
            "Ha indicates that there is significant difference ie they re heterogenous\"  (reject H0 and accept H1)\n"
          ],
          "name": "stdout"
        }
      ]
    },
    {
      "cell_type": "code",
      "metadata": {
        "id": "OuKPNa4S-nM5"
      },
      "source": [
        ""
      ],
      "execution_count": null,
      "outputs": []
    },
    {
      "cell_type": "markdown",
      "metadata": {
        "id": "pLyjHVZgRl4O"
      },
      "source": [
        "####Two Sample T_testt"
      ]
    },
    {
      "cell_type": "code",
      "metadata": {
        "colab": {
          "base_uri": "https://localhost:8080/",
          "height": 141
        },
        "id": "ZBcrRUZmNomI",
        "outputId": "41134e28-1698-46fb-eb74-1abf0e076cb6"
      },
      "source": [
        "train_data.groupby('Sex').mean()"
      ],
      "execution_count": null,
      "outputs": [
        {
          "output_type": "execute_result",
          "data": {
            "text/html": [
              "<div>\n",
              "<style scoped>\n",
              "    .dataframe tbody tr th:only-of-type {\n",
              "        vertical-align: middle;\n",
              "    }\n",
              "\n",
              "    .dataframe tbody tr th {\n",
              "        vertical-align: top;\n",
              "    }\n",
              "\n",
              "    .dataframe thead th {\n",
              "        text-align: right;\n",
              "    }\n",
              "</style>\n",
              "<table border=\"1\" class=\"dataframe\">\n",
              "  <thead>\n",
              "    <tr style=\"text-align: right;\">\n",
              "      <th></th>\n",
              "      <th>PassengerId</th>\n",
              "      <th>Survived</th>\n",
              "      <th>Pclass</th>\n",
              "      <th>Age</th>\n",
              "      <th>SibSp</th>\n",
              "      <th>Parch</th>\n",
              "      <th>Fare</th>\n",
              "    </tr>\n",
              "    <tr>\n",
              "      <th>Sex</th>\n",
              "      <th></th>\n",
              "      <th></th>\n",
              "      <th></th>\n",
              "      <th></th>\n",
              "      <th></th>\n",
              "      <th></th>\n",
              "      <th></th>\n",
              "    </tr>\n",
              "  </thead>\n",
              "  <tbody>\n",
              "    <tr>\n",
              "      <th>female</th>\n",
              "      <td>431.028662</td>\n",
              "      <td>0.742038</td>\n",
              "      <td>2.159236</td>\n",
              "      <td>27.915709</td>\n",
              "      <td>0.694268</td>\n",
              "      <td>0.649682</td>\n",
              "      <td>44.479818</td>\n",
              "    </tr>\n",
              "    <tr>\n",
              "      <th>male</th>\n",
              "      <td>454.147314</td>\n",
              "      <td>0.188908</td>\n",
              "      <td>2.389948</td>\n",
              "      <td>30.726645</td>\n",
              "      <td>0.429809</td>\n",
              "      <td>0.235702</td>\n",
              "      <td>25.523893</td>\n",
              "    </tr>\n",
              "  </tbody>\n",
              "</table>\n",
              "</div>"
            ],
            "text/plain": [
              "        PassengerId  Survived    Pclass  ...     SibSp     Parch       Fare\n",
              "Sex                                      ...                               \n",
              "female   431.028662  0.742038  2.159236  ...  0.694268  0.649682  44.479818\n",
              "male     454.147314  0.188908  2.389948  ...  0.429809  0.235702  25.523893\n",
              "\n",
              "[2 rows x 7 columns]"
            ]
          },
          "metadata": {
            "tags": []
          },
          "execution_count": 74
        }
      ]
    },
    {
      "cell_type": "markdown",
      "metadata": {
        "id": "ZtLXiSEFR8Ae"
      },
      "source": [
        "male were more than female. Inferential statistics helps to understand whether the difference in significant or its due to chance. "
      ]
    },
    {
      "cell_type": "code",
      "metadata": {
        "id": "hXZI6UItSrGC"
      },
      "source": [
        "from scipy.stats import ttest_ind"
      ],
      "execution_count": null,
      "outputs": []
    },
    {
      "cell_type": "code",
      "metadata": {
        "colab": {
          "base_uri": "https://localhost:8080/"
        },
        "id": "LZ2cZMQOTExH",
        "outputId": "71a653b3-eb86-4f34-e51d-6570e8d1f809"
      },
      "source": [
        "train_data.Sex.value_counts()"
      ],
      "execution_count": null,
      "outputs": [
        {
          "output_type": "execute_result",
          "data": {
            "text/plain": [
              "male      577\n",
              "female    314\n",
              "Name: Sex, dtype: int64"
            ]
          },
          "metadata": {
            "tags": []
          },
          "execution_count": 76
        }
      ]
    },
    {
      "cell_type": "code",
      "metadata": {
        "id": "8QSB1eGITP7j"
      },
      "source": [
        "male_f=train_data.Fare[train_data.Sex=='male']\n",
        "female_f=train_data.Fare[train_data.Sex=='female']"
      ],
      "execution_count": null,
      "outputs": []
    },
    {
      "cell_type": "markdown",
      "metadata": {
        "id": "UQS-qb33Uk0a"
      },
      "source": [
        ""
      ]
    },
    {
      "cell_type": "markdown",
      "metadata": {
        "id": "mmey45OWUk-y"
      },
      "source": [
        ""
      ]
    },
    {
      "cell_type": "markdown",
      "metadata": {
        "id": "GOHTTKBTUlJH"
      },
      "source": [
        "male  had higher mean average in Fare compared to their female counterparts, the difference is not statistically significant "
      ]
    },
    {
      "cell_type": "code",
      "metadata": {
        "colab": {
          "base_uri": "https://localhost:8080/"
        },
        "id": "WiBXpMhCSfsd",
        "outputId": "63742620-c209-4931-d385-704564a201bd"
      },
      "source": [
        "\n",
        "tscore, pvalue = ttest_ind(male_f,female_f,equal_var=False)\n",
        "\n",
        "# selecionando o nível de significãncia que por convenção é 0,05\n",
        "alpha = 0.05\n",
        "# Aceita ou rejeita H0?\n",
        "print('t_score: {:.4f}'.format(tscore))\n",
        "print('pvalue: {:.4f}' .format(pvalue))\n",
        "print('level of significance: {:.2f}' .format(alpha))\n",
        "# print('level of significe=%.2f, p_value=%.2f, chi_2=%.2f' % (alpha, p_value,tscore))\n",
        "if p_value >= alpha:\n",
        "    print('There is no signd=ificance difference ie they are homogenous. (Acceptt H0)')\n",
        "else:\n",
        "    print('Ha indicates that there is significant difference ie they are heterogenous\"  (reject H0 and accept H1)')"
      ],
      "execution_count": null,
      "outputs": [
        {
          "output_type": "stream",
          "text": [
            "t_score: -5.0775\n",
            "pvalue: 0.0000\n",
            "level of significance: 0.05\n",
            "Ha indicates that there is significant difference ie they are heterogenous\"  (reject H0 and accept H1)\n"
          ],
          "name": "stdout"
        }
      ]
    },
    {
      "cell_type": "code",
      "metadata": {
        "id": "p8d4jUcpSqW6"
      },
      "source": [
        ""
      ],
      "execution_count": null,
      "outputs": []
    },
    {
      "cell_type": "code",
      "metadata": {
        "id": "fD-Z-6M1Socb"
      },
      "source": [
        ""
      ],
      "execution_count": null,
      "outputs": []
    },
    {
      "cell_type": "markdown",
      "metadata": {
        "id": "Wd9LG7vjKCG2"
      },
      "source": [
        "###Z-TEST"
      ]
    },
    {
      "cell_type": "code",
      "metadata": {
        "id": "pQ7SQfJqiQKA"
      },
      "source": [
        "from statsmodels.stats import weightstats as stests\n",
        "import numpy as np"
      ],
      "execution_count": null,
      "outputs": []
    },
    {
      "cell_type": "code",
      "metadata": {
        "id": "NVKG19WQNm71"
      },
      "source": [
        ""
      ],
      "execution_count": null,
      "outputs": []
    },
    {
      "cell_type": "code",
      "metadata": {
        "id": "TF5AprBp11lo"
      },
      "source": [
        "data=np.random.normal(loc=3.4,scale=0.1,size=100)\n",
        "singleValue=3.3"
      ],
      "execution_count": null,
      "outputs": []
    },
    {
      "cell_type": "code",
      "metadata": {
        "colab": {
          "base_uri": "https://localhost:8080/"
        },
        "id": "C2vaAxLP11q9",
        "outputId": "499a83f3-90c3-496c-db59-bd8f18499e97"
      },
      "source": [
        "# Assuming data are normally distributed, we can do z-test\n",
        "testResult=stests.ztest(data,value=singleValue)\n",
        "pValue=testResult[1]\n",
        "print(\"p-value is: \"+str(pValue))\n",
        "print(\"\")"
      ],
      "execution_count": null,
      "outputs": [
        {
          "output_type": "stream",
          "text": [
            "p-value is: 2.3588615638248338e-29\n",
            "\n"
          ],
          "name": "stdout"
        }
      ]
    },
    {
      "cell_type": "code",
      "metadata": {
        "colab": {
          "base_uri": "https://localhost:8080/"
        },
        "id": "AxmKbw3o2KDd",
        "outputId": "e21a9d8c-46e6-49bd-f43e-352a0ad90186"
      },
      "source": [
        "# For me, it is more convincing NOT to assume normal distribution\n",
        "# Can make a statement like this:\n",
        "\n",
        "N=len(data)\n",
        "ave=np.mean(data)\n",
        "if(singleValue<ave):\n",
        "    print(\"Value is less than mean of data and \"+str(len(data[data<singleValue]))+\" out of \"+str(N)+\" individual observations are less than value.\")\n",
        "else:\n",
        "    print(\"Value is greater than mean of data and \"+str(len(data[data>singleValue]))+\" out of \"+str(N)+\" individual observations are greater than value.\")\n",
        "    "
      ],
      "execution_count": null,
      "outputs": [
        {
          "output_type": "stream",
          "text": [
            "Value is less than mean of data and 10 out of 100 individual observations are less than value.\n"
          ],
          "name": "stdout"
        }
      ]
    },
    {
      "cell_type": "code",
      "metadata": {
        "colab": {
          "base_uri": "https://localhost:8080/",
          "height": 205
        },
        "id": "FCZaBRNe2KsL",
        "outputId": "6e01b1bc-d1d9-4289-a7e9-980f712be83a"
      },
      "source": [
        "data= pd.read_csv(path+'/ab_data.csv')\n",
        "data.head()"
      ],
      "execution_count": null,
      "outputs": [
        {
          "output_type": "execute_result",
          "data": {
            "text/html": [
              "<div>\n",
              "<style scoped>\n",
              "    .dataframe tbody tr th:only-of-type {\n",
              "        vertical-align: middle;\n",
              "    }\n",
              "\n",
              "    .dataframe tbody tr th {\n",
              "        vertical-align: top;\n",
              "    }\n",
              "\n",
              "    .dataframe thead th {\n",
              "        text-align: right;\n",
              "    }\n",
              "</style>\n",
              "<table border=\"1\" class=\"dataframe\">\n",
              "  <thead>\n",
              "    <tr style=\"text-align: right;\">\n",
              "      <th></th>\n",
              "      <th>user_id</th>\n",
              "      <th>timestamp</th>\n",
              "      <th>group</th>\n",
              "      <th>landing_page</th>\n",
              "      <th>converted</th>\n",
              "    </tr>\n",
              "  </thead>\n",
              "  <tbody>\n",
              "    <tr>\n",
              "      <th>0</th>\n",
              "      <td>851104</td>\n",
              "      <td>2017-01-21 22:11:48.556739</td>\n",
              "      <td>control</td>\n",
              "      <td>old_page</td>\n",
              "      <td>0</td>\n",
              "    </tr>\n",
              "    <tr>\n",
              "      <th>1</th>\n",
              "      <td>804228</td>\n",
              "      <td>2017-01-12 08:01:45.159739</td>\n",
              "      <td>control</td>\n",
              "      <td>old_page</td>\n",
              "      <td>0</td>\n",
              "    </tr>\n",
              "    <tr>\n",
              "      <th>2</th>\n",
              "      <td>661590</td>\n",
              "      <td>2017-01-11 16:55:06.154213</td>\n",
              "      <td>treatment</td>\n",
              "      <td>new_page</td>\n",
              "      <td>0</td>\n",
              "    </tr>\n",
              "    <tr>\n",
              "      <th>3</th>\n",
              "      <td>853541</td>\n",
              "      <td>2017-01-08 18:28:03.143765</td>\n",
              "      <td>treatment</td>\n",
              "      <td>new_page</td>\n",
              "      <td>0</td>\n",
              "    </tr>\n",
              "    <tr>\n",
              "      <th>4</th>\n",
              "      <td>864975</td>\n",
              "      <td>2017-01-21 01:52:26.210827</td>\n",
              "      <td>control</td>\n",
              "      <td>old_page</td>\n",
              "      <td>1</td>\n",
              "    </tr>\n",
              "  </tbody>\n",
              "</table>\n",
              "</div>"
            ],
            "text/plain": [
              "   user_id                   timestamp      group landing_page  converted\n",
              "0   851104  2017-01-21 22:11:48.556739    control     old_page          0\n",
              "1   804228  2017-01-12 08:01:45.159739    control     old_page          0\n",
              "2   661590  2017-01-11 16:55:06.154213  treatment     new_page          0\n",
              "3   853541  2017-01-08 18:28:03.143765  treatment     new_page          0\n",
              "4   864975  2017-01-21 01:52:26.210827    control     old_page          1"
            ]
          },
          "metadata": {},
          "execution_count": 6
        }
      ]
    },
    {
      "cell_type": "code",
      "metadata": {
        "colab": {
          "base_uri": "https://localhost:8080/"
        },
        "id": "8x62j3oKA9mT",
        "outputId": "89070ff2-29ff-4655-a446-6a1fdbdf3cc7"
      },
      "source": [
        "data.shape"
      ],
      "execution_count": null,
      "outputs": [
        {
          "output_type": "execute_result",
          "data": {
            "text/plain": [
              "(294478, 5)"
            ]
          },
          "metadata": {},
          "execution_count": 17
        }
      ]
    },
    {
      "cell_type": "code",
      "metadata": {
        "colab": {
          "base_uri": "https://localhost:8080/",
          "height": 142
        },
        "id": "BIXGB4FXvKhj",
        "outputId": "57fb5471-f363-41f1-a543-f362f062b620"
      },
      "source": [
        "lan_page=data.pivot_table(values='landing_page', index='converted', aggfunc='count')\n",
        "lan_page"
      ],
      "execution_count": null,
      "outputs": [
        {
          "output_type": "execute_result",
          "data": {
            "text/html": [
              "<div>\n",
              "<style scoped>\n",
              "    .dataframe tbody tr th:only-of-type {\n",
              "        vertical-align: middle;\n",
              "    }\n",
              "\n",
              "    .dataframe tbody tr th {\n",
              "        vertical-align: top;\n",
              "    }\n",
              "\n",
              "    .dataframe thead th {\n",
              "        text-align: right;\n",
              "    }\n",
              "</style>\n",
              "<table border=\"1\" class=\"dataframe\">\n",
              "  <thead>\n",
              "    <tr style=\"text-align: right;\">\n",
              "      <th></th>\n",
              "      <th>landing_page</th>\n",
              "    </tr>\n",
              "    <tr>\n",
              "      <th>converted</th>\n",
              "      <th></th>\n",
              "    </tr>\n",
              "  </thead>\n",
              "  <tbody>\n",
              "    <tr>\n",
              "      <th>0</th>\n",
              "      <td>259241</td>\n",
              "    </tr>\n",
              "    <tr>\n",
              "      <th>1</th>\n",
              "      <td>35237</td>\n",
              "    </tr>\n",
              "  </tbody>\n",
              "</table>\n",
              "</div>"
            ],
            "text/plain": [
              "           landing_page\n",
              "converted              \n",
              "0                259241\n",
              "1                 35237"
            ]
          },
          "metadata": {},
          "execution_count": 18
        }
      ]
    },
    {
      "cell_type": "code",
      "metadata": {
        "colab": {
          "base_uri": "https://localhost:8080/",
          "height": 142
        },
        "id": "zUUTdFpDAeOk",
        "outputId": "9daf884e-f0a2-44f7-fe91-170b8c701207"
      },
      "source": [
        "sizes = data.pivot_table(values = 'converted', index = 'group', aggfunc = 'count')\n",
        "sizes"
      ],
      "execution_count": null,
      "outputs": [
        {
          "output_type": "execute_result",
          "data": {
            "text/html": [
              "<div>\n",
              "<style scoped>\n",
              "    .dataframe tbody tr th:only-of-type {\n",
              "        vertical-align: middle;\n",
              "    }\n",
              "\n",
              "    .dataframe tbody tr th {\n",
              "        vertical-align: top;\n",
              "    }\n",
              "\n",
              "    .dataframe thead th {\n",
              "        text-align: right;\n",
              "    }\n",
              "</style>\n",
              "<table border=\"1\" class=\"dataframe\">\n",
              "  <thead>\n",
              "    <tr style=\"text-align: right;\">\n",
              "      <th></th>\n",
              "      <th>converted</th>\n",
              "    </tr>\n",
              "    <tr>\n",
              "      <th>group</th>\n",
              "      <th></th>\n",
              "    </tr>\n",
              "  </thead>\n",
              "  <tbody>\n",
              "    <tr>\n",
              "      <th>control</th>\n",
              "      <td>147202</td>\n",
              "    </tr>\n",
              "    <tr>\n",
              "      <th>treatment</th>\n",
              "      <td>147276</td>\n",
              "    </tr>\n",
              "  </tbody>\n",
              "</table>\n",
              "</div>"
            ],
            "text/plain": [
              "           converted\n",
              "group               \n",
              "control       147202\n",
              "treatment     147276"
            ]
          },
          "metadata": {},
          "execution_count": 19
        }
      ]
    },
    {
      "cell_type": "code",
      "metadata": {
        "colab": {
          "base_uri": "https://localhost:8080/",
          "height": 204
        },
        "id": "sWkasGAgBw1h",
        "outputId": "27062d11-39da-458f-cfaf-c7713afb5d2a"
      },
      "source": [
        "s_check = data.groupby(['group','landing_page']).count()\n",
        "s_check"
      ],
      "execution_count": null,
      "outputs": [
        {
          "output_type": "execute_result",
          "data": {
            "text/html": [
              "<div>\n",
              "<style scoped>\n",
              "    .dataframe tbody tr th:only-of-type {\n",
              "        vertical-align: middle;\n",
              "    }\n",
              "\n",
              "    .dataframe tbody tr th {\n",
              "        vertical-align: top;\n",
              "    }\n",
              "\n",
              "    .dataframe thead th {\n",
              "        text-align: right;\n",
              "    }\n",
              "</style>\n",
              "<table border=\"1\" class=\"dataframe\">\n",
              "  <thead>\n",
              "    <tr style=\"text-align: right;\">\n",
              "      <th></th>\n",
              "      <th></th>\n",
              "      <th>user_id</th>\n",
              "      <th>timestamp</th>\n",
              "      <th>converted</th>\n",
              "    </tr>\n",
              "    <tr>\n",
              "      <th>group</th>\n",
              "      <th>landing_page</th>\n",
              "      <th></th>\n",
              "      <th></th>\n",
              "      <th></th>\n",
              "    </tr>\n",
              "  </thead>\n",
              "  <tbody>\n",
              "    <tr>\n",
              "      <th rowspan=\"2\" valign=\"top\">control</th>\n",
              "      <th>new_page</th>\n",
              "      <td>1928</td>\n",
              "      <td>1928</td>\n",
              "      <td>1928</td>\n",
              "    </tr>\n",
              "    <tr>\n",
              "      <th>old_page</th>\n",
              "      <td>145274</td>\n",
              "      <td>145274</td>\n",
              "      <td>145274</td>\n",
              "    </tr>\n",
              "    <tr>\n",
              "      <th rowspan=\"2\" valign=\"top\">treatment</th>\n",
              "      <th>new_page</th>\n",
              "      <td>145311</td>\n",
              "      <td>145311</td>\n",
              "      <td>145311</td>\n",
              "    </tr>\n",
              "    <tr>\n",
              "      <th>old_page</th>\n",
              "      <td>1965</td>\n",
              "      <td>1965</td>\n",
              "      <td>1965</td>\n",
              "    </tr>\n",
              "  </tbody>\n",
              "</table>\n",
              "</div>"
            ],
            "text/plain": [
              "                        user_id  timestamp  converted\n",
              "group     landing_page                               \n",
              "control   new_page         1928       1928       1928\n",
              "          old_page       145274     145274     145274\n",
              "treatment new_page       145311     145311     145311\n",
              "          old_page         1965       1965       1965"
            ]
          },
          "metadata": {},
          "execution_count": 20
        }
      ]
    },
    {
      "cell_type": "code",
      "metadata": {
        "colab": {
          "base_uri": "https://localhost:8080/",
          "height": 204
        },
        "id": "OH0ulCIimVI6",
        "outputId": "5df41aca-7a61-4a7d-d96c-f69d98b4ce51"
      },
      "source": [
        "s_c = data.groupby(['group','landing_page']).count()\n",
        "s_c\n"
      ],
      "execution_count": null,
      "outputs": [
        {
          "output_type": "execute_result",
          "data": {
            "text/html": [
              "<div>\n",
              "<style scoped>\n",
              "    .dataframe tbody tr th:only-of-type {\n",
              "        vertical-align: middle;\n",
              "    }\n",
              "\n",
              "    .dataframe tbody tr th {\n",
              "        vertical-align: top;\n",
              "    }\n",
              "\n",
              "    .dataframe thead th {\n",
              "        text-align: right;\n",
              "    }\n",
              "</style>\n",
              "<table border=\"1\" class=\"dataframe\">\n",
              "  <thead>\n",
              "    <tr style=\"text-align: right;\">\n",
              "      <th></th>\n",
              "      <th></th>\n",
              "      <th>user_id</th>\n",
              "      <th>timestamp</th>\n",
              "      <th>converted</th>\n",
              "    </tr>\n",
              "    <tr>\n",
              "      <th>group</th>\n",
              "      <th>landing_page</th>\n",
              "      <th></th>\n",
              "      <th></th>\n",
              "      <th></th>\n",
              "    </tr>\n",
              "  </thead>\n",
              "  <tbody>\n",
              "    <tr>\n",
              "      <th rowspan=\"2\" valign=\"top\">control</th>\n",
              "      <th>new_page</th>\n",
              "      <td>1928</td>\n",
              "      <td>1928</td>\n",
              "      <td>1928</td>\n",
              "    </tr>\n",
              "    <tr>\n",
              "      <th>old_page</th>\n",
              "      <td>145274</td>\n",
              "      <td>145274</td>\n",
              "      <td>145274</td>\n",
              "    </tr>\n",
              "    <tr>\n",
              "      <th rowspan=\"2\" valign=\"top\">treatment</th>\n",
              "      <th>new_page</th>\n",
              "      <td>145311</td>\n",
              "      <td>145311</td>\n",
              "      <td>145311</td>\n",
              "    </tr>\n",
              "    <tr>\n",
              "      <th>old_page</th>\n",
              "      <td>1965</td>\n",
              "      <td>1965</td>\n",
              "      <td>1965</td>\n",
              "    </tr>\n",
              "  </tbody>\n",
              "</table>\n",
              "</div>"
            ],
            "text/plain": [
              "                        user_id  timestamp  converted\n",
              "group     landing_page                               \n",
              "control   new_page         1928       1928       1928\n",
              "          old_page       145274     145274     145274\n",
              "treatment new_page       145311     145311     145311\n",
              "          old_page         1965       1965       1965"
            ]
          },
          "metadata": {},
          "execution_count": 21
        }
      ]
    },
    {
      "cell_type": "markdown",
      "metadata": {
        "id": "pRSzmcjIBDIP"
      },
      "source": [
        "The data are balanced although they are some records that \n",
        "\n",
        "---\n",
        "\n",
        "have visited new page in control group and old page in \n",
        "\n",
        "---\n",
        "\n",
        "treatment group."
      ]
    },
    {
      "cell_type": "code",
      "metadata": {
        "colab": {
          "base_uri": "https://localhost:8080/"
        },
        "id": "45-aYqo4w4J9",
        "outputId": "4482faac-c5b6-4d5b-f78b-bcd639948e24"
      },
      "source": [
        "((s_c.loc[('control','new_page'),'converted']/ sizes.loc['control']).values[0]), ((s_c.loc[('treatment','old_page'),'converted']/sizes.loc['treatment']).values[0])"
      ],
      "execution_count": null,
      "outputs": [
        {
          "output_type": "execute_result",
          "data": {
            "text/plain": [
              "(0.013097648129780846, 0.013342296097123767)"
            ]
          },
          "metadata": {},
          "execution_count": 22
        }
      ]
    },
    {
      "cell_type": "code",
      "metadata": {
        "colab": {
          "base_uri": "https://localhost:8080/"
        },
        "id": "OcxOJ26-A59h",
        "outputId": "1ab3c2cd-6acd-4afa-fa7d-76c19725f574"
      },
      "source": [
        "(round((s_check.loc[('control','new_page'),'converted']\n",
        " / sizes.loc['control']).values[0],4),\n",
        "round((s_check.loc[('treatment','old_page'),'converted']\n",
        " / sizes.loc['treatment']).values[0],4))"
      ],
      "execution_count": null,
      "outputs": [
        {
          "output_type": "execute_result",
          "data": {
            "text/plain": [
              "(0.0131, 0.0133)"
            ]
          },
          "metadata": {},
          "execution_count": 23
        }
      ]
    },
    {
      "cell_type": "markdown",
      "metadata": {
        "id": "zJAgVpmIBRK8"
      },
      "source": [
        "The wrong data make about 1.3% of the groups, thus we decide to remove them without huge loss.\n",
        "\n"
      ]
    },
    {
      "cell_type": "code",
      "metadata": {
        "id": "Z6g0nuSRBSmh"
      },
      "source": [
        "mas = ((data['group'] == 'treatment')&(data['landing_page'] == 'new_page'))|((data['group'] == 'control')&(data['landing_page'] == 'old_page'))\n",
        "data = data.loc[mas].copy()"
      ],
      "execution_count": null,
      "outputs": []
    },
    {
      "cell_type": "code",
      "metadata": {
        "id": "i9XKmIuRKBWW"
      },
      "source": [
        ""
      ],
      "execution_count": null,
      "outputs": []
    },
    {
      "cell_type": "code",
      "metadata": {
        "colab": {
          "base_uri": "https://localhost:8080/",
          "height": 142
        },
        "id": "y0yQSmY2AlNC",
        "outputId": "d9e940b3-4a70-4441-9821-0ca671e8bbf3"
      },
      "source": [
        "s_check = data.groupby(['group','landing_page']).count()\n",
        "s_check"
      ],
      "execution_count": null,
      "outputs": [
        {
          "output_type": "execute_result",
          "data": {
            "text/html": [
              "<div>\n",
              "<style scoped>\n",
              "    .dataframe tbody tr th:only-of-type {\n",
              "        vertical-align: middle;\n",
              "    }\n",
              "\n",
              "    .dataframe tbody tr th {\n",
              "        vertical-align: top;\n",
              "    }\n",
              "\n",
              "    .dataframe thead th {\n",
              "        text-align: right;\n",
              "    }\n",
              "</style>\n",
              "<table border=\"1\" class=\"dataframe\">\n",
              "  <thead>\n",
              "    <tr style=\"text-align: right;\">\n",
              "      <th></th>\n",
              "      <th></th>\n",
              "      <th>user_id</th>\n",
              "      <th>timestamp</th>\n",
              "      <th>converted</th>\n",
              "    </tr>\n",
              "    <tr>\n",
              "      <th>group</th>\n",
              "      <th>landing_page</th>\n",
              "      <th></th>\n",
              "      <th></th>\n",
              "      <th></th>\n",
              "    </tr>\n",
              "  </thead>\n",
              "  <tbody>\n",
              "    <tr>\n",
              "      <th>control</th>\n",
              "      <th>old_page</th>\n",
              "      <td>145274</td>\n",
              "      <td>145274</td>\n",
              "      <td>145274</td>\n",
              "    </tr>\n",
              "    <tr>\n",
              "      <th>treatment</th>\n",
              "      <th>new_page</th>\n",
              "      <td>145311</td>\n",
              "      <td>145311</td>\n",
              "      <td>145311</td>\n",
              "    </tr>\n",
              "  </tbody>\n",
              "</table>\n",
              "</div>"
            ],
            "text/plain": [
              "                        user_id  timestamp  converted\n",
              "group     landing_page                               \n",
              "control   old_page       145274     145274     145274\n",
              "treatment new_page       145311     145311     145311"
            ]
          },
          "metadata": {},
          "execution_count": 25
        }
      ]
    },
    {
      "cell_type": "code",
      "metadata": {
        "colab": {
          "base_uri": "https://localhost:8080/"
        },
        "id": "f-OJjk09CKpU",
        "outputId": "5ac1b36a-7f75-4cf7-f350-f8402a7be8f2"
      },
      "source": [
        "data.groupby(['group','converted']).count()['user_id']\n"
      ],
      "execution_count": null,
      "outputs": [
        {
          "output_type": "execute_result",
          "data": {
            "text/plain": [
              "group      converted\n",
              "control    0            127785\n",
              "           1             17489\n",
              "treatment  0            128047\n",
              "           1             17264\n",
              "Name: user_id, dtype: int64"
            ]
          },
          "metadata": {},
          "execution_count": 26
        }
      ]
    },
    {
      "cell_type": "code",
      "metadata": {
        "colab": {
          "base_uri": "https://localhost:8080/",
          "height": 142
        },
        "id": "z3R9xy_xBsgx",
        "outputId": "f5ac82ab-161a-4c60-b5c8-dc65323ce072"
      },
      "source": [
        "means = data.pivot_table(values = 'converted', index = 'group', aggfunc = 'mean')\n",
        "means"
      ],
      "execution_count": null,
      "outputs": [
        {
          "output_type": "execute_result",
          "data": {
            "text/html": [
              "<div>\n",
              "<style scoped>\n",
              "    .dataframe tbody tr th:only-of-type {\n",
              "        vertical-align: middle;\n",
              "    }\n",
              "\n",
              "    .dataframe tbody tr th {\n",
              "        vertical-align: top;\n",
              "    }\n",
              "\n",
              "    .dataframe thead th {\n",
              "        text-align: right;\n",
              "    }\n",
              "</style>\n",
              "<table border=\"1\" class=\"dataframe\">\n",
              "  <thead>\n",
              "    <tr style=\"text-align: right;\">\n",
              "      <th></th>\n",
              "      <th>converted</th>\n",
              "    </tr>\n",
              "    <tr>\n",
              "      <th>group</th>\n",
              "      <th></th>\n",
              "    </tr>\n",
              "  </thead>\n",
              "  <tbody>\n",
              "    <tr>\n",
              "      <th>control</th>\n",
              "      <td>0.120386</td>\n",
              "    </tr>\n",
              "    <tr>\n",
              "      <th>treatment</th>\n",
              "      <td>0.118807</td>\n",
              "    </tr>\n",
              "  </tbody>\n",
              "</table>\n",
              "</div>"
            ],
            "text/plain": [
              "           converted\n",
              "group               \n",
              "control     0.120386\n",
              "treatment   0.118807"
            ]
          },
          "metadata": {},
          "execution_count": 27
        }
      ]
    },
    {
      "cell_type": "markdown",
      "metadata": {
        "id": "hDxw25U5AOze"
      },
      "source": [
        "Let us estimate the sample means for our two groups."
      ]
    },
    {
      "cell_type": "markdown",
      "metadata": {
        "id": "IgRcDl7vDVty"
      },
      "source": [
        "####Testing the hypothesis using Z-test\n"
      ]
    },
    {
      "cell_type": "code",
      "metadata": {
        "id": "NmtxYWYhCmVT",
        "colab": {
          "base_uri": "https://localhost:8080/"
        },
        "outputId": "e5926c09-38fe-4d59-882d-6cb449da4fd7"
      },
      "source": [
        "n = sizes.loc['control'].values[0]\n",
        "m = sizes.loc['treatment'].values[0]\n",
        "print(n,m)\n",
        "Xhat = means.loc['control'].values[0]\n",
        "Yhat = means.loc['treatment'].values[0]\n",
        "phat = data['converted'].sum()/len(data['converted']) \n",
        "print(Xhat,Yhat)\n",
        "print(phat)\n"
      ],
      "execution_count": null,
      "outputs": [
        {
          "output_type": "stream",
          "text": [
            "147202 147276\n",
            "0.1203863045004612 0.11880724790277405\n",
            "0.11959667567149027\n"
          ],
          "name": "stdout"
        }
      ]
    },
    {
      "cell_type": "markdown",
      "metadata": {
        "id": "juE0_Cuc-BGD"
      },
      "source": [
        "![image.png](data:image/png;base64,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)\n"
      ]
    },
    {
      "cell_type": "markdown",
      "metadata": {
        "id": "11BO4rkn-_sX"
      },
      "source": [
        ""
      ]
    },
    {
      "cell_type": "code",
      "metadata": {
        "colab": {
          "base_uri": "https://localhost:8080/"
        },
        "id": "BecTnu4tAOHZ",
        "outputId": "b4275760-c514-4a0e-cc17-80cd4e7fc89c"
      },
      "source": [
        "Z_val = (Yhat - Xhat)/(np.sqrt((phat*(1-phat)*(1/n + 1/m))))\n",
        "Z_val"
      ],
      "execution_count": null,
      "outputs": [
        {
          "output_type": "execute_result",
          "data": {
            "text/plain": [
              "-1.3203641490491862"
            ]
          },
          "metadata": {},
          "execution_count": 29
        }
      ]
    },
    {
      "cell_type": "code",
      "metadata": {
        "id": "uycAdH5eVNE8"
      },
      "source": [
        ""
      ],
      "execution_count": null,
      "outputs": []
    },
    {
      "cell_type": "code",
      "metadata": {
        "id": "bseaFnvfAOMJ"
      },
      "source": [
        "from statsmodels.stats.proportion import proportions_ztest"
      ],
      "execution_count": null,
      "outputs": []
    },
    {
      "cell_type": "code",
      "metadata": {
        "id": "yAVzWrJAAOQF"
      },
      "source": [
        "mask_treatment = data['group'] == 'treatment'\n",
        "treatment_ones = data.loc[mask_treatment, 'converted'].value_counts().loc[1]\n",
        "mask_control = data['group'] == 'control'\n",
        "control_ones = data.loc[mask_control, 'converted'].value_counts().loc[1]"
      ],
      "execution_count": null,
      "outputs": []
    },
    {
      "cell_type": "code",
      "metadata": {
        "colab": {
          "base_uri": "https://localhost:8080/"
        },
        "id": "kpzlPXAnDkmt",
        "outputId": "d3c2974b-28f3-4731-9837-d5392cf69577"
      },
      "source": [
        "z_test = proportions_ztest(\n",
        "    count = [treatment_ones,control_ones],\n",
        "    nobs = [sizes.loc['treatment'].values[0],sizes.loc['control'].values[0]],\n",
        "    value = 0,\n",
        "    alternative = 'two-sided',\n",
        "    prop_var = False\n",
        ")\n",
        "print('The value of the Z statistic is %0.3f and the p-value is %0.3f' % (z_test[0],z_test[1]))"
      ],
      "execution_count": null,
      "outputs": [
        {
          "output_type": "stream",
          "text": [
            "The value of the Z statistic is -1.335 and the p-value is 0.182\n"
          ],
          "name": "stdout"
        }
      ]
    },
    {
      "cell_type": "markdown",
      "metadata": {
        "id": "E2E9pN9LD003"
      },
      "source": [
        "The  p -value is bigger that 0.05, thus we can't reject the hypothesis that  p1=p2 ."
      ]
    },
    {
      "cell_type": "code",
      "metadata": {
        "id": "uDgh7fzdE4X9"
      },
      "source": [
        "from statsmodels.stats.proportion import proportions_ztest, proportion_confint\n"
      ],
      "execution_count": null,
      "outputs": []
    },
    {
      "cell_type": "code",
      "metadata": {
        "id": "BNUTohdCDk1M"
      },
      "source": [
        "control_results = data[data['group'] == 'control']['converted']\n",
        "treatment_results = data[data['group'] == 'treatment']['converted']\n"
      ],
      "execution_count": null,
      "outputs": []
    },
    {
      "cell_type": "code",
      "metadata": {
        "id": "rx9i_J8CuvLA",
        "colab": {
          "base_uri": "https://localhost:8080/"
        },
        "outputId": "24b49fa4-5d84-4e54-f4c4-ace67b1985ec"
      },
      "source": [
        "n_con = control_results.count()\n",
        "n_treat = treatment_results.count()\n",
        "successes = [control_results.sum(), treatment_results.sum()]\n",
        "nobs = [n_con, n_treat]\n",
        "\n",
        "z_stat, pval = proportions_ztest(successes, nobs=nobs)\n",
        "(lower_con, lower_treat), (upper_con, upper_treat) = proportion_confint(successes, nobs=nobs, alpha=0.05)\n",
        "\n",
        "print(f'z statistic: {z_stat:.2f}')\n",
        "print(f'p-value: {pval:.3f}')\n",
        "print(f'ci 95% for control group: [{lower_con:.3f}, {upper_con:.3f}]')\n",
        "print(f'ci 95% for treatment group: [{lower_treat:.3f}, {upper_treat:.3f}]')"
      ],
      "execution_count": null,
      "outputs": [
        {
          "output_type": "stream",
          "text": [
            "z statistic: 1.31\n",
            "p-value: 0.190\n",
            "ci 95% for control group: [0.119, 0.122]\n",
            "ci 95% for treatment group: [0.117, 0.120]\n"
          ],
          "name": "stdout"
        }
      ]
    },
    {
      "cell_type": "markdown",
      "metadata": {
        "id": "9Y4nVQ3mFZ9V"
      },
      "source": [
        "Since our  p -value=0.732 is way above our  α =0.05, we cannot reject the null hypothesis  H0 , which means that our new design did not perform significantly different (let alone better) than our old one"
      ]
    },
    {
      "cell_type": "markdown",
      "metadata": {
        "id": "iegPAkOrFl9U"
      },
      "source": [
        "Additionally, if we look at the confidence interval for the treatment group ([0.117, 0.12], i.e. 11.7-12.0%) we notice that:\n",
        "\n",
        "It includes our baseline value of 12% conversion rate It does not include our target value of 14% (the 2% uplift we were aiming for) What this means is that it is more likely that the true conversion rate of the new design is similar to our baseline, rather than the 14% target we had hoped for. This is further proof that our new design is not likely to be an improvement on our old design, and that unfortunately we are back to the drawing board!"
      ]
    },
    {
      "cell_type": "markdown",
      "metadata": {
        "id": "FKlk44a4Gq4V"
      },
      "source": [
        "###Chi-Square"
      ]
    },
    {
      "cell_type": "code",
      "metadata": {
        "id": "dA779lw6H3Mp"
      },
      "source": [
        "import scipy"
      ],
      "execution_count": null,
      "outputs": []
    },
    {
      "cell_type": "code",
      "metadata": {
        "id": "AEB6wbrXGxeH"
      },
      "source": [
        "from scipy.stats import chi2_contingency\n"
      ],
      "execution_count": null,
      "outputs": []
    },
    {
      "cell_type": "code",
      "metadata": {
        "colab": {
          "base_uri": "https://localhost:8080/"
        },
        "id": "DJ0qxOuM7Rr5",
        "outputId": "86f5333d-4f55-468c-f6c6-5f81dacda717"
      },
      "source": [
        "data.group.value_counts()"
      ],
      "execution_count": null,
      "outputs": [
        {
          "output_type": "execute_result",
          "data": {
            "text/plain": [
              "treatment    147276\n",
              "control      147202\n",
              "Name: group, dtype: int64"
            ]
          },
          "metadata": {},
          "execution_count": 12
        }
      ]
    },
    {
      "cell_type": "code",
      "metadata": {
        "colab": {
          "base_uri": "https://localhost:8080/"
        },
        "id": "9V19nhhE51GG",
        "outputId": "cfc54054-9712-4575-b557-7300e1c4a0ec"
      },
      "source": [
        "data.columns"
      ],
      "execution_count": null,
      "outputs": [
        {
          "output_type": "execute_result",
          "data": {
            "text/plain": [
              "Index(['user_id', 'timestamp', 'group', 'landing_page', 'converted'], dtype='object')"
            ]
          },
          "metadata": {},
          "execution_count": 7
        }
      ]
    },
    {
      "cell_type": "code",
      "metadata": {
        "id": "Hl4gWeX97nLY"
      },
      "source": [
        "group& converted\n",
        "landing_page and grouop"
      ],
      "execution_count": null,
      "outputs": []
    },
    {
      "cell_type": "code",
      "metadata": {
        "colab": {
          "base_uri": "https://localhost:8080/",
          "height": 143
        },
        "id": "A8sUTf1bIW12",
        "outputId": "b4c33a70-6f6b-4950-d740-36544c7139d3"
      },
      "source": [
        "tabela_chi = pd.crosstab(data.landing_page,\n",
        "                           data.converted, normalize=False)\n",
        "\n",
        "tabela_chi"
      ],
      "execution_count": null,
      "outputs": [
        {
          "output_type": "execute_result",
          "data": {
            "text/html": [
              "<div>\n",
              "<style scoped>\n",
              "    .dataframe tbody tr th:only-of-type {\n",
              "        vertical-align: middle;\n",
              "    }\n",
              "\n",
              "    .dataframe tbody tr th {\n",
              "        vertical-align: top;\n",
              "    }\n",
              "\n",
              "    .dataframe thead th {\n",
              "        text-align: right;\n",
              "    }\n",
              "</style>\n",
              "<table border=\"1\" class=\"dataframe\">\n",
              "  <thead>\n",
              "    <tr style=\"text-align: right;\">\n",
              "      <th>converted</th>\n",
              "      <th>0</th>\n",
              "      <th>1</th>\n",
              "    </tr>\n",
              "    <tr>\n",
              "      <th>landing_page</th>\n",
              "      <th></th>\n",
              "      <th></th>\n",
              "    </tr>\n",
              "  </thead>\n",
              "  <tbody>\n",
              "    <tr>\n",
              "      <th>new_page</th>\n",
              "      <td>129741</td>\n",
              "      <td>17498</td>\n",
              "    </tr>\n",
              "    <tr>\n",
              "      <th>old_page</th>\n",
              "      <td>129500</td>\n",
              "      <td>17739</td>\n",
              "    </tr>\n",
              "  </tbody>\n",
              "</table>\n",
              "</div>"
            ],
            "text/plain": [
              "converted          0      1\n",
              "landing_page               \n",
              "new_page      129741  17498\n",
              "old_page      129500  17739"
            ]
          },
          "metadata": {},
          "execution_count": 9
        }
      ]
    },
    {
      "cell_type": "code",
      "metadata": {
        "colab": {
          "base_uri": "https://localhost:8080/"
        },
        "id": "md91jmsAGxrn",
        "outputId": "96bb8d45-3512-4c0e-a38d-c5d4da99c319"
      },
      "source": [
        "chi_2, p_value, gol,frequency= chi2_contingency(tabela_chi,correction=False)\n",
        "\n",
        "# selecionando o nível de significãncia que por convenção é 0,05\n",
        "alpha = 0.05\n",
        "# Aceita ou rejeita H0?\n",
        "print('level of significe=%.2f, p_value=%.2f, chi_2=%.2f' % (alpha, p_value,chi_2))\n"
      ],
      "execution_count": null,
      "outputs": [
        {
          "output_type": "stream",
          "name": "stdout",
          "text": [
            "level of significe=0.05, p_value=0.17, chi_2=1.87\n"
          ]
        }
      ]
    },
    {
      "cell_type": "code",
      "metadata": {
        "id": "rNv2PGNYLe53"
      },
      "source": [
        "data.columns"
      ],
      "execution_count": null,
      "outputs": []
    },
    {
      "cell_type": "markdown",
      "metadata": {
        "id": "7WZnmDOIq5mV"
      },
      "source": [
        "**Exercise**\n",
        "1. Validate if there is association between group and landing_page\n",
        "2. Validate if there is association between group and converted"
      ]
    },
    {
      "cell_type": "code",
      "metadata": {
        "id": "cukG_yzlLfH9"
      },
      "source": [
        ""
      ],
      "execution_count": null,
      "outputs": []
    },
    {
      "cell_type": "code",
      "metadata": {
        "colab": {
          "base_uri": "https://localhost:8080/"
        },
        "id": "CN7WdhYcjQGr",
        "outputId": "a14a239a-066b-441c-f7a6-2cb8d47557ff"
      },
      "source": [
        "from eda_report.multivariate import MultiVariable\n",
        "MultiVariable(train_data)"
      ],
      "execution_count": null,
      "outputs": [
        {
          "output_type": "stream",
          "text": [
            "[INFO 19:52:44.410] NumExpr defaulting to 2 threads.\n",
            "Bivariate analysis: 100%|██████████████████████████████████████████| 21/21 [00:10<00:00,  2.06it/s]\n"
          ],
          "name": "stderr"
        },
        {
          "output_type": "execute_result",
          "data": {
            "text/plain": [
              "        Overview\n",
              "        ========\n",
              "Numeric features: PassengerId, Survived, Pclass, Age, SibSp, Parch, Fare\n",
              "Categorical features: Name, Sex, Ticket, Cabin, Embarked\n",
              "\n",
              "        Summary Statistics (Numeric features)\n",
              "        =====================================\n",
              "       PassengerId    Survived      Pclass  ...       SibSp       Parch        Fare\n",
              "count   891.000000  891.000000  891.000000  ...  891.000000  891.000000  891.000000\n",
              "mean    446.000000    0.383838    2.308642  ...    0.523008    0.381594   32.204208\n",
              "std     257.353842    0.486592    0.836071  ...    1.102743    0.806057   49.693429\n",
              "min       1.000000    0.000000    1.000000  ...    0.000000    0.000000    0.000000\n",
              "25%     223.500000    0.000000    2.000000  ...    0.000000    0.000000    7.910400\n",
              "50%     446.000000    0.000000    3.000000  ...    0.000000    0.000000   14.454200\n",
              "75%     668.500000    1.000000    3.000000  ...    1.000000    0.000000   31.000000\n",
              "max     891.000000    1.000000    3.000000  ...    8.000000    6.000000  512.329200\n",
              "\n",
              "[8 rows x 7 columns]\n",
              "\n",
              "        Summary Statistics (Categorical features)\n",
              "        =========================================\n",
              "                                          Name   Sex Ticket    Cabin Embarked\n",
              "count                                      891   891    891      204      889\n",
              "unique                                     891     2    681      147        3\n",
              "top     Coutts, Master. William Loch \"William\"  male   1601  B96 B98        S\n",
              "freq                                         1   577      7        4      644\n",
              "\n",
              "        Bivariate Analysis (Correlation)\n",
              "        ================================\n",
              "Pclass & Fare --> moderate negative correlation (-0.55)\n",
              "Age & SibSp --> weak negative correlation (-0.31)\n",
              "PassengerId & Survived --> virtually no correlation (-0.01)\n",
              "SibSp & Parch --> weak positive correlation (0.41)\n",
              "PassengerId & Parch --> virtually no correlation (-0.00)\n",
              "Survived & Fare --> very weak positive correlation (0.26)\n",
              "Survived & Parch --> virtually no correlation (0.08)\n",
              "SibSp & Fare --> very weak positive correlation (0.16)\n",
              "Pclass & Age --> weak negative correlation (-0.37)\n",
              "Parch & Fare --> very weak positive correlation (0.22)\n",
              "PassengerId & Pclass --> virtually no correlation (-0.04)\n",
              "PassengerId & SibSp --> virtually no correlation (-0.06)\n",
              "Age & Parch --> very weak negative correlation (-0.19)\n",
              "Survived & SibSp --> virtually no correlation (-0.04)\n",
              "Pclass & Parch --> virtually no correlation (0.02)\n",
              "Survived & Age --> virtually no correlation (-0.08)\n",
              "PassengerId & Fare --> virtually no correlation (0.01)\n",
              "Survived & Pclass --> weak negative correlation (-0.34)\n",
              "Pclass & SibSp --> virtually no correlation (0.08)\n",
              "PassengerId & Age --> virtually no correlation (0.04)\n",
              "Age & Fare --> virtually no correlation (0.10)"
            ]
          },
          "metadata": {
            "tags": []
          },
          "execution_count": 8
        }
      ]
    },
    {
      "cell_type": "code",
      "metadata": {
        "id": "QM-0XFseH1As"
      },
      "source": [
        ""
      ],
      "execution_count": null,
      "outputs": []
    },
    {
      "cell_type": "markdown",
      "metadata": {
        "id": "eE5o-r277r98"
      },
      "source": [
        "###ANOVA"
      ]
    },
    {
      "cell_type": "markdown",
      "metadata": {
        "id": "8zkPYboUqbPg"
      },
      "source": [
        "####ANOVA with one categorical feature"
      ]
    },
    {
      "cell_type": "code",
      "metadata": {
        "id": "RjEuHS3jpTYn"
      },
      "source": [
        "import statsmodels.api as sm\n",
        "from statsmodels.formula.api import ols"
      ],
      "execution_count": null,
      "outputs": []
    },
    {
      "cell_type": "code",
      "metadata": {
        "colab": {
          "base_uri": "https://localhost:8080/"
        },
        "id": "rrWrHDvRpTc7",
        "outputId": "4e3affdd-9a5e-46f5-c01e-2928bdea9453"
      },
      "source": [
        "train_data.columns"
      ],
      "execution_count": null,
      "outputs": [
        {
          "output_type": "execute_result",
          "data": {
            "text/plain": [
              "Index(['PassengerId', 'Survived', 'Pclass', 'Name', 'Sex', 'Age', 'SibSp',\n",
              "       'Parch', 'Ticket', 'Fare', 'Cabin', 'Embarked'],\n",
              "      dtype='object')"
            ]
          },
          "metadata": {},
          "execution_count": 45
        }
      ]
    },
    {
      "cell_type": "code",
      "metadata": {
        "colab": {
          "base_uri": "https://localhost:8080/",
          "height": 111
        },
        "id": "fmHJUanApU9x",
        "outputId": "1ace79b9-2fc4-4e5a-d07d-637474b4d399"
      },
      "source": [
        "titanic_lm=ols('Age ~ C(Survived)', data=train_data).fit() #Specify C for Categorical\n",
        "sm.stats.anova_lm(titanic_lm, typ=2)"
      ],
      "execution_count": null,
      "outputs": [
        {
          "output_type": "execute_result",
          "data": {
            "text/html": [
              "<div>\n",
              "<style scoped>\n",
              "    .dataframe tbody tr th:only-of-type {\n",
              "        vertical-align: middle;\n",
              "    }\n",
              "\n",
              "    .dataframe tbody tr th {\n",
              "        vertical-align: top;\n",
              "    }\n",
              "\n",
              "    .dataframe thead th {\n",
              "        text-align: right;\n",
              "    }\n",
              "</style>\n",
              "<table border=\"1\" class=\"dataframe\">\n",
              "  <thead>\n",
              "    <tr style=\"text-align: right;\">\n",
              "      <th></th>\n",
              "      <th>sum_sq</th>\n",
              "      <th>df</th>\n",
              "      <th>F</th>\n",
              "      <th>PR(&gt;F)</th>\n",
              "    </tr>\n",
              "  </thead>\n",
              "  <tbody>\n",
              "    <tr>\n",
              "      <th>C(Survived)</th>\n",
              "      <td>897.187582</td>\n",
              "      <td>1.0</td>\n",
              "      <td>4.271195</td>\n",
              "      <td>0.039125</td>\n",
              "    </tr>\n",
              "    <tr>\n",
              "      <th>Residual</th>\n",
              "      <td>149559.448362</td>\n",
              "      <td>712.0</td>\n",
              "      <td>NaN</td>\n",
              "      <td>NaN</td>\n",
              "    </tr>\n",
              "  </tbody>\n",
              "</table>\n",
              "</div>"
            ],
            "text/plain": [
              "                    sum_sq     df         F    PR(>F)\n",
              "C(Survived)     897.187582    1.0  4.271195  0.039125\n",
              "Residual     149559.448362  712.0       NaN       NaN"
            ]
          },
          "metadata": {},
          "execution_count": 47
        }
      ]
    },
    {
      "cell_type": "markdown",
      "metadata": {
        "id": "vImgqecSp9xd"
      },
      "source": [
        "The Probability of the F statistic is statistically significant (PR(>F)  because it is less than  0.05 level of significance. Meaning the information in Survived has predictive power for Age[link text"
      ]
    },
    {
      "cell_type": "markdown",
      "metadata": {
        "id": "jXwzweN-qe0P"
      },
      "source": [
        "####ANOVA with categorical and numerical features (many features)"
      ]
    },
    {
      "cell_type": "code",
      "metadata": {
        "colab": {
          "base_uri": "https://localhost:8080/"
        },
        "id": "whC60vvGrzm0",
        "outputId": "6d6a7bf0-220c-4b37-ef9f-d5898d0d9305"
      },
      "source": [
        "train_data.info()"
      ],
      "execution_count": null,
      "outputs": [
        {
          "output_type": "stream",
          "text": [
            "<class 'pandas.core.frame.DataFrame'>\n",
            "RangeIndex: 891 entries, 0 to 890\n",
            "Data columns (total 12 columns):\n",
            " #   Column       Non-Null Count  Dtype  \n",
            "---  ------       --------------  -----  \n",
            " 0   PassengerId  891 non-null    int64  \n",
            " 1   Survived     891 non-null    int64  \n",
            " 2   Pclass       891 non-null    int64  \n",
            " 3   Name         891 non-null    object \n",
            " 4   Sex          891 non-null    object \n",
            " 5   Age          714 non-null    float64\n",
            " 6   SibSp        891 non-null    int64  \n",
            " 7   Parch        891 non-null    int64  \n",
            " 8   Ticket       891 non-null    object \n",
            " 9   Fare         891 non-null    float64\n",
            " 10  Cabin        204 non-null    object \n",
            " 11  Embarked     889 non-null    object \n",
            "dtypes: float64(2), int64(5), object(5)\n",
            "memory usage: 83.7+ KB\n"
          ],
          "name": "stdout"
        }
      ]
    },
    {
      "cell_type": "code",
      "metadata": {
        "colab": {
          "base_uri": "https://localhost:8080/",
          "height": 235
        },
        "id": "Z7WDW2gFpzB5",
        "outputId": "bcc7a3ff-90a6-45a5-cdf7-a6d92c2489a9"
      },
      "source": [
        "tit_lm=ols('Age ~ C(Survived) + Fare + Pclass+SibSp+Parch', data=train_data).fit() #Specify C for Categorical\n",
        "sm.stats.anova_lm(tit_lm, typ=2)"
      ],
      "execution_count": null,
      "outputs": [
        {
          "output_type": "execute_result",
          "data": {
            "text/html": [
              "<div>\n",
              "<style scoped>\n",
              "    .dataframe tbody tr th:only-of-type {\n",
              "        vertical-align: middle;\n",
              "    }\n",
              "\n",
              "    .dataframe tbody tr th {\n",
              "        vertical-align: top;\n",
              "    }\n",
              "\n",
              "    .dataframe thead th {\n",
              "        text-align: right;\n",
              "    }\n",
              "</style>\n",
              "<table border=\"1\" class=\"dataframe\">\n",
              "  <thead>\n",
              "    <tr style=\"text-align: right;\">\n",
              "      <th></th>\n",
              "      <th>sum_sq</th>\n",
              "      <th>df</th>\n",
              "      <th>F</th>\n",
              "      <th>PR(&gt;F)</th>\n",
              "    </tr>\n",
              "  </thead>\n",
              "  <tbody>\n",
              "    <tr>\n",
              "      <th>C(Survived)</th>\n",
              "      <td>6771.328093</td>\n",
              "      <td>1.0</td>\n",
              "      <td>43.722777</td>\n",
              "      <td>7.454055e-11</td>\n",
              "    </tr>\n",
              "    <tr>\n",
              "      <th>Fare</th>\n",
              "      <td>280.683556</td>\n",
              "      <td>1.0</td>\n",
              "      <td>1.812387</td>\n",
              "      <td>1.786531e-01</td>\n",
              "    </tr>\n",
              "    <tr>\n",
              "      <th>Pclass</th>\n",
              "      <td>19878.783652</td>\n",
              "      <td>1.0</td>\n",
              "      <td>128.358221</td>\n",
              "      <td>1.842179e-27</td>\n",
              "    </tr>\n",
              "    <tr>\n",
              "      <th>SibSp</th>\n",
              "      <td>8209.182954</td>\n",
              "      <td>1.0</td>\n",
              "      <td>53.007072</td>\n",
              "      <td>8.864518e-13</td>\n",
              "    </tr>\n",
              "    <tr>\n",
              "      <th>Parch</th>\n",
              "      <td>263.618909</td>\n",
              "      <td>1.0</td>\n",
              "      <td>1.702199</td>\n",
              "      <td>1.924245e-01</td>\n",
              "    </tr>\n",
              "    <tr>\n",
              "      <th>Residual</th>\n",
              "      <td>109647.662271</td>\n",
              "      <td>708.0</td>\n",
              "      <td>NaN</td>\n",
              "      <td>NaN</td>\n",
              "    </tr>\n",
              "  </tbody>\n",
              "</table>\n",
              "</div>"
            ],
            "text/plain": [
              "                    sum_sq     df           F        PR(>F)\n",
              "C(Survived)    6771.328093    1.0   43.722777  7.454055e-11\n",
              "Fare            280.683556    1.0    1.812387  1.786531e-01\n",
              "Pclass        19878.783652    1.0  128.358221  1.842179e-27\n",
              "SibSp          8209.182954    1.0   53.007072  8.864518e-13\n",
              "Parch           263.618909    1.0    1.702199  1.924245e-01\n",
              "Residual     109647.662271  708.0         NaN           NaN"
            ]
          },
          "metadata": {},
          "execution_count": 50
        }
      ]
    },
    {
      "cell_type": "markdown",
      "metadata": {
        "id": "k6f1cp0bBFrL"
      },
      "source": [
        "**Exercise**\n",
        "Use ANOVA to test population across various groups(features) in Housing price. (dependent variable is median_house_value)"
      ]
    },
    {
      "cell_type": "markdown",
      "metadata": {
        "id": "SWrvdbPi41sJ"
      },
      "source": [
        ""
      ]
    },
    {
      "cell_type": "code",
      "metadata": {
        "colab": {
          "base_uri": "https://localhost:8080/",
          "height": 528
        },
        "id": "bpiNt4fEsjEZ",
        "outputId": "d9141519-85dd-4680-f652-e2535c4f3e99"
      },
      "source": [
        "tit_lm.summary()"
      ],
      "execution_count": null,
      "outputs": [
        {
          "output_type": "execute_result",
          "data": {
            "text/html": [
              "<table class=\"simpletable\">\n",
              "<caption>OLS Regression Results</caption>\n",
              "<tr>\n",
              "  <th>Dep. Variable:</th>           <td>Age</td>       <th>  R-squared:         </th> <td>   0.271</td>\n",
              "</tr>\n",
              "<tr>\n",
              "  <th>Model:</th>                   <td>OLS</td>       <th>  Adj. R-squared:    </th> <td>   0.266</td>\n",
              "</tr>\n",
              "<tr>\n",
              "  <th>Method:</th>             <td>Least Squares</td>  <th>  F-statistic:       </th> <td>   52.70</td>\n",
              "</tr>\n",
              "<tr>\n",
              "  <th>Date:</th>             <td>Tue, 24 Aug 2021</td> <th>  Prob (F-statistic):</th> <td>1.63e-46</td>\n",
              "</tr>\n",
              "<tr>\n",
              "  <th>Time:</th>                 <td>11:49:09</td>     <th>  Log-Likelihood:    </th> <td> -2810.3</td>\n",
              "</tr>\n",
              "<tr>\n",
              "  <th>No. Observations:</th>      <td>   714</td>      <th>  AIC:               </th> <td>   5633.</td>\n",
              "</tr>\n",
              "<tr>\n",
              "  <th>Df Residuals:</th>          <td>   708</td>      <th>  BIC:               </th> <td>   5660.</td>\n",
              "</tr>\n",
              "<tr>\n",
              "  <th>Df Model:</th>              <td>     5</td>      <th>                     </th>     <td> </td>   \n",
              "</tr>\n",
              "<tr>\n",
              "  <th>Covariance Type:</th>      <td>nonrobust</td>    <th>                     </th>     <td> </td>   \n",
              "</tr>\n",
              "</table>\n",
              "<table class=\"simpletable\">\n",
              "<tr>\n",
              "          <td></td>            <th>coef</th>     <th>std err</th>      <th>t</th>      <th>P>|t|</th>  <th>[0.025</th>    <th>0.975]</th>  \n",
              "</tr>\n",
              "<tr>\n",
              "  <th>Intercept</th>        <td>   53.3246</td> <td>    1.962</td> <td>   27.179</td> <td> 0.000</td> <td>   49.473</td> <td>   57.177</td>\n",
              "</tr>\n",
              "<tr>\n",
              "  <th>C(Survived)[T.1]</th> <td>   -6.7815</td> <td>    1.026</td> <td>   -6.612</td> <td> 0.000</td> <td>   -8.795</td> <td>   -4.768</td>\n",
              "</tr>\n",
              "<tr>\n",
              "  <th>Fare</th>             <td>   -0.0149</td> <td>    0.011</td> <td>   -1.346</td> <td> 0.179</td> <td>   -0.037</td> <td>    0.007</td>\n",
              "</tr>\n",
              "<tr>\n",
              "  <th>Pclass</th>           <td>   -8.0316</td> <td>    0.709</td> <td>  -11.330</td> <td> 0.000</td> <td>   -9.423</td> <td>   -6.640</td>\n",
              "</tr>\n",
              "<tr>\n",
              "  <th>SibSp</th>            <td>   -3.9948</td> <td>    0.549</td> <td>   -7.281</td> <td> 0.000</td> <td>   -5.072</td> <td>   -2.918</td>\n",
              "</tr>\n",
              "<tr>\n",
              "  <th>Parch</th>            <td>   -0.7920</td> <td>    0.607</td> <td>   -1.305</td> <td> 0.192</td> <td>   -1.984</td> <td>    0.400</td>\n",
              "</tr>\n",
              "</table>\n",
              "<table class=\"simpletable\">\n",
              "<tr>\n",
              "  <th>Omnibus:</th>       <td>22.999</td> <th>  Durbin-Watson:     </th> <td>   1.897</td>\n",
              "</tr>\n",
              "<tr>\n",
              "  <th>Prob(Omnibus):</th> <td> 0.000</td> <th>  Jarque-Bera (JB):  </th> <td>  24.353</td>\n",
              "</tr>\n",
              "<tr>\n",
              "  <th>Skew:</th>          <td> 0.436</td> <th>  Prob(JB):          </th> <td>5.15e-06</td>\n",
              "</tr>\n",
              "<tr>\n",
              "  <th>Kurtosis:</th>      <td> 3.241</td> <th>  Cond. No.          </th> <td>    288.</td>\n",
              "</tr>\n",
              "</table><br/><br/>Warnings:<br/>[1] Standard Errors assume that the covariance matrix of the errors is correctly specified."
            ],
            "text/plain": [
              "<class 'statsmodels.iolib.summary.Summary'>\n",
              "\"\"\"\n",
              "                            OLS Regression Results                            \n",
              "==============================================================================\n",
              "Dep. Variable:                    Age   R-squared:                       0.271\n",
              "Model:                            OLS   Adj. R-squared:                  0.266\n",
              "Method:                 Least Squares   F-statistic:                     52.70\n",
              "Date:                Tue, 24 Aug 2021   Prob (F-statistic):           1.63e-46\n",
              "Time:                        11:49:09   Log-Likelihood:                -2810.3\n",
              "No. Observations:                 714   AIC:                             5633.\n",
              "Df Residuals:                     708   BIC:                             5660.\n",
              "Df Model:                           5                                         \n",
              "Covariance Type:            nonrobust                                         \n",
              "====================================================================================\n",
              "                       coef    std err          t      P>|t|      [0.025      0.975]\n",
              "------------------------------------------------------------------------------------\n",
              "Intercept           53.3246      1.962     27.179      0.000      49.473      57.177\n",
              "C(Survived)[T.1]    -6.7815      1.026     -6.612      0.000      -8.795      -4.768\n",
              "Fare                -0.0149      0.011     -1.346      0.179      -0.037       0.007\n",
              "Pclass              -8.0316      0.709    -11.330      0.000      -9.423      -6.640\n",
              "SibSp               -3.9948      0.549     -7.281      0.000      -5.072      -2.918\n",
              "Parch               -0.7920      0.607     -1.305      0.192      -1.984       0.400\n",
              "==============================================================================\n",
              "Omnibus:                       22.999   Durbin-Watson:                   1.897\n",
              "Prob(Omnibus):                  0.000   Jarque-Bera (JB):               24.353\n",
              "Skew:                           0.436   Prob(JB):                     5.15e-06\n",
              "Kurtosis:                       3.241   Cond. No.                         288.\n",
              "==============================================================================\n",
              "\n",
              "Warnings:\n",
              "[1] Standard Errors assume that the covariance matrix of the errors is correctly specified.\n",
              "\"\"\""
            ]
          },
          "metadata": {},
          "execution_count": 49
        }
      ]
    },
    {
      "cell_type": "markdown",
      "metadata": {
        "id": "bpgD4ByBs4rr"
      },
      "source": [
        "The .summary() is useful when you do ANOVA with a model with more than one feature because the statsmodel .anova_lm() does not print the total F-statistic for the model by default. By default it shows the F-statistic contributed by each feature. Here we see the F-statistic is 188 for the whole model with a Prob (F-statistic) < 0.05, so we reject the null hypothesis."
      ]
    },
    {
      "cell_type": "markdown",
      "metadata": {
        "id": "twrYBIRldDfx"
      },
      "source": [
        "### OLS"
      ]
    },
    {
      "cell_type": "code",
      "metadata": {
        "id": "D0kIG1-r9GOW"
      },
      "source": [
        "import statsmodels.api as sm\n",
        "from statsmodels.formula.api import ols\n"
      ],
      "execution_count": null,
      "outputs": []
    },
    {
      "cell_type": "code",
      "metadata": {
        "colab": {
          "base_uri": "https://localhost:8080/"
        },
        "id": "6cazGxZu9W1e",
        "outputId": "f95a1ee2-6533-49c5-c3b6-b8a0c0f3c8f6"
      },
      "source": [
        "house_prices.columns"
      ],
      "execution_count": null,
      "outputs": [
        {
          "output_type": "execute_result",
          "data": {
            "text/plain": [
              "Index(['longitude', 'latitude', 'housing_median_age', 'total_rooms',\n",
              "       'total_bedrooms', 'population', 'households', 'median_income',\n",
              "       'median_house_value', 'ocean_proximity'],\n",
              "      dtype='object')"
            ]
          },
          "metadata": {},
          "execution_count": 6
        }
      ]
    },
    {
      "cell_type": "code",
      "metadata": {
        "id": "D7AGzyuK9Jcq"
      },
      "source": [
        "price_ols=ols(formula='median_house_value~C(ocean_proximity)+longitude+latitude+housing_median_age+total_rooms+total_bedrooms+population+households+median_income',data=house_prices)"
      ],
      "execution_count": null,
      "outputs": []
    },
    {
      "cell_type": "code",
      "metadata": {
        "colab": {
          "base_uri": "https://localhost:8080/",
          "height": 709
        },
        "id": "OG14zqVP9Jhz",
        "outputId": "ebb4d494-caef-4437-bbae-d648d0b4d2e3"
      },
      "source": [
        "pric_fit=price_ols.fit()\n",
        "pric_fit.summary()"
      ],
      "execution_count": null,
      "outputs": [
        {
          "output_type": "execute_result",
          "data": {
            "text/html": [
              "<table class=\"simpletable\">\n",
              "<caption>OLS Regression Results</caption>\n",
              "<tr>\n",
              "  <th>Dep. Variable:</th>    <td>median_house_value</td> <th>  R-squared:         </th>  <td>   0.646</td>  \n",
              "</tr>\n",
              "<tr>\n",
              "  <th>Model:</th>                    <td>OLS</td>        <th>  Adj. R-squared:    </th>  <td>   0.646</td>  \n",
              "</tr>\n",
              "<tr>\n",
              "  <th>Method:</th>              <td>Least Squares</td>   <th>  F-statistic:       </th>  <td>   3112.</td>  \n",
              "</tr>\n",
              "<tr>\n",
              "  <th>Date:</th>              <td>Wed, 25 Aug 2021</td>  <th>  Prob (F-statistic):</th>   <td>  0.00</td>   \n",
              "</tr>\n",
              "<tr>\n",
              "  <th>Time:</th>                  <td>11:03:14</td>      <th>  Log-Likelihood:    </th> <td>-2.5655e+05</td>\n",
              "</tr>\n",
              "<tr>\n",
              "  <th>No. Observations:</th>       <td> 20433</td>       <th>  AIC:               </th>  <td>5.131e+05</td> \n",
              "</tr>\n",
              "<tr>\n",
              "  <th>Df Residuals:</th>           <td> 20420</td>       <th>  BIC:               </th>  <td>5.132e+05</td> \n",
              "</tr>\n",
              "<tr>\n",
              "  <th>Df Model:</th>               <td>    12</td>       <th>                     </th>      <td> </td>     \n",
              "</tr>\n",
              "<tr>\n",
              "  <th>Covariance Type:</th>       <td>nonrobust</td>     <th>                     </th>      <td> </td>     \n",
              "</tr>\n",
              "</table>\n",
              "<table class=\"simpletable\">\n",
              "<tr>\n",
              "                  <td></td>                    <th>coef</th>     <th>std err</th>      <th>t</th>      <th>P>|t|</th>  <th>[0.025</th>    <th>0.975]</th>  \n",
              "</tr>\n",
              "<tr>\n",
              "  <th>Intercept</th>                        <td> -2.27e+06</td> <td>  8.8e+04</td> <td>  -25.791</td> <td> 0.000</td> <td>-2.44e+06</td> <td> -2.1e+06</td>\n",
              "</tr>\n",
              "<tr>\n",
              "  <th>C(ocean_proximity)[T.INLAND]</th>     <td>-3.928e+04</td> <td> 1744.258</td> <td>  -22.522</td> <td> 0.000</td> <td>-4.27e+04</td> <td>-3.59e+04</td>\n",
              "</tr>\n",
              "<tr>\n",
              "  <th>C(ocean_proximity)[T.ISLAND]</th>     <td> 1.529e+05</td> <td> 3.07e+04</td> <td>    4.974</td> <td> 0.000</td> <td> 9.26e+04</td> <td> 2.13e+05</td>\n",
              "</tr>\n",
              "<tr>\n",
              "  <th>C(ocean_proximity)[T.NEAR BAY]</th>   <td>-3954.0516</td> <td> 1913.339</td> <td>   -2.067</td> <td> 0.039</td> <td>-7704.350</td> <td> -203.753</td>\n",
              "</tr>\n",
              "<tr>\n",
              "  <th>C(ocean_proximity)[T.NEAR OCEAN]</th> <td> 4278.1343</td> <td> 1569.525</td> <td>    2.726</td> <td> 0.006</td> <td> 1201.739</td> <td> 7354.530</td>\n",
              "</tr>\n",
              "<tr>\n",
              "  <th>longitude</th>                        <td>-2.681e+04</td> <td> 1019.651</td> <td>  -26.296</td> <td> 0.000</td> <td>-2.88e+04</td> <td>-2.48e+04</td>\n",
              "</tr>\n",
              "<tr>\n",
              "  <th>latitude</th>                         <td>-2.548e+04</td> <td> 1004.702</td> <td>  -25.363</td> <td> 0.000</td> <td>-2.75e+04</td> <td>-2.35e+04</td>\n",
              "</tr>\n",
              "<tr>\n",
              "  <th>housing_median_age</th>               <td> 1072.5200</td> <td>   43.886</td> <td>   24.439</td> <td> 0.000</td> <td>  986.501</td> <td> 1158.540</td>\n",
              "</tr>\n",
              "<tr>\n",
              "  <th>total_rooms</th>                      <td>   -6.1933</td> <td>    0.791</td> <td>   -7.825</td> <td> 0.000</td> <td>   -7.745</td> <td>   -4.642</td>\n",
              "</tr>\n",
              "<tr>\n",
              "  <th>total_bedrooms</th>                   <td>  100.5563</td> <td>    6.869</td> <td>   14.640</td> <td> 0.000</td> <td>   87.093</td> <td>  114.019</td>\n",
              "</tr>\n",
              "<tr>\n",
              "  <th>population</th>                       <td>  -37.9691</td> <td>    1.076</td> <td>  -35.282</td> <td> 0.000</td> <td>  -40.078</td> <td>  -35.860</td>\n",
              "</tr>\n",
              "<tr>\n",
              "  <th>households</th>                       <td>   49.6173</td> <td>    7.451</td> <td>    6.659</td> <td> 0.000</td> <td>   35.012</td> <td>   64.222</td>\n",
              "</tr>\n",
              "<tr>\n",
              "  <th>median_income</th>                    <td> 3.926e+04</td> <td>  338.005</td> <td>  116.151</td> <td> 0.000</td> <td> 3.86e+04</td> <td> 3.99e+04</td>\n",
              "</tr>\n",
              "</table>\n",
              "<table class=\"simpletable\">\n",
              "<tr>\n",
              "  <th>Omnibus:</th>       <td>5049.292</td> <th>  Durbin-Watson:     </th> <td>   0.977</td> \n",
              "</tr>\n",
              "<tr>\n",
              "  <th>Prob(Omnibus):</th>  <td> 0.000</td>  <th>  Jarque-Bera (JB):  </th> <td>19123.138</td>\n",
              "</tr>\n",
              "<tr>\n",
              "  <th>Skew:</th>           <td> 1.197</td>  <th>  Prob(JB):          </th> <td>    0.00</td> \n",
              "</tr>\n",
              "<tr>\n",
              "  <th>Kurtosis:</th>       <td> 7.090</td>  <th>  Cond. No.          </th> <td>7.24e+05</td> \n",
              "</tr>\n",
              "</table><br/><br/>Warnings:<br/>[1] Standard Errors assume that the covariance matrix of the errors is correctly specified.<br/>[2] The condition number is large, 7.24e+05. This might indicate that there are<br/>strong multicollinearity or other numerical problems."
            ],
            "text/plain": [
              "<class 'statsmodels.iolib.summary.Summary'>\n",
              "\"\"\"\n",
              "                            OLS Regression Results                            \n",
              "==============================================================================\n",
              "Dep. Variable:     median_house_value   R-squared:                       0.646\n",
              "Model:                            OLS   Adj. R-squared:                  0.646\n",
              "Method:                 Least Squares   F-statistic:                     3112.\n",
              "Date:                Wed, 25 Aug 2021   Prob (F-statistic):               0.00\n",
              "Time:                        11:03:14   Log-Likelihood:            -2.5655e+05\n",
              "No. Observations:               20433   AIC:                         5.131e+05\n",
              "Df Residuals:                   20420   BIC:                         5.132e+05\n",
              "Df Model:                          12                                         \n",
              "Covariance Type:            nonrobust                                         \n",
              "====================================================================================================\n",
              "                                       coef    std err          t      P>|t|      [0.025      0.975]\n",
              "----------------------------------------------------------------------------------------------------\n",
              "Intercept                         -2.27e+06    8.8e+04    -25.791      0.000   -2.44e+06    -2.1e+06\n",
              "C(ocean_proximity)[T.INLAND]     -3.928e+04   1744.258    -22.522      0.000   -4.27e+04   -3.59e+04\n",
              "C(ocean_proximity)[T.ISLAND]      1.529e+05   3.07e+04      4.974      0.000    9.26e+04    2.13e+05\n",
              "C(ocean_proximity)[T.NEAR BAY]   -3954.0516   1913.339     -2.067      0.039   -7704.350    -203.753\n",
              "C(ocean_proximity)[T.NEAR OCEAN]  4278.1343   1569.525      2.726      0.006    1201.739    7354.530\n",
              "longitude                        -2.681e+04   1019.651    -26.296      0.000   -2.88e+04   -2.48e+04\n",
              "latitude                         -2.548e+04   1004.702    -25.363      0.000   -2.75e+04   -2.35e+04\n",
              "housing_median_age                1072.5200     43.886     24.439      0.000     986.501    1158.540\n",
              "total_rooms                         -6.1933      0.791     -7.825      0.000      -7.745      -4.642\n",
              "total_bedrooms                     100.5563      6.869     14.640      0.000      87.093     114.019\n",
              "population                         -37.9691      1.076    -35.282      0.000     -40.078     -35.860\n",
              "households                          49.6173      7.451      6.659      0.000      35.012      64.222\n",
              "median_income                     3.926e+04    338.005    116.151      0.000    3.86e+04    3.99e+04\n",
              "==============================================================================\n",
              "Omnibus:                     5049.292   Durbin-Watson:                   0.977\n",
              "Prob(Omnibus):                  0.000   Jarque-Bera (JB):            19123.138\n",
              "Skew:                           1.197   Prob(JB):                         0.00\n",
              "Kurtosis:                       7.090   Cond. No.                     7.24e+05\n",
              "==============================================================================\n",
              "\n",
              "Warnings:\n",
              "[1] Standard Errors assume that the covariance matrix of the errors is correctly specified.\n",
              "[2] The condition number is large, 7.24e+05. This might indicate that there are\n",
              "strong multicollinearity or other numerical problems.\n",
              "\"\"\""
            ]
          },
          "metadata": {},
          "execution_count": 9
        }
      ]
    },
    {
      "cell_type": "markdown",
      "metadata": {
        "id": "_seR2WeR_mQn"
      },
      "source": [
        "**R-squared**  R-squared is the measurement of how much of the independent variable is explained by changes in our dependent variables. In percentage terms, 0.646 would mean our **model explains 64.7% of the change in our median_house_value variable**"
      ]
    },
    {
      "cell_type": "markdown",
      "metadata": {
        "id": "_ypf5y7R_3e9"
      },
      "source": [
        "EXplain for P>|t| and Prob (F-statistic)"
      ]
    },
    {
      "cell_type": "markdown",
      "metadata": {
        "id": "36QouW9uoQmF"
      },
      "source": [
        "The formula is provided as a string, in the following form: ‘dependent variable ~ list of independent variables separated by the + symbol’"
      ]
    },
    {
      "cell_type": "code",
      "metadata": {
        "colab": {
          "base_uri": "https://localhost:8080/",
          "height": 470
        },
        "id": "sjSVZ7KHXjCC",
        "outputId": "19a426cc-865c-461b-9a64-ab86ac3f4a0a"
      },
      "source": [
        "import statsmodels.formula.api as sm\n",
        "model = sm.ols(formula='Survived~Pclass+Age1+Embarked11+Parch+Fare+Sex1', data=train_data)\n",
        "fitted3 = model.fit()\n",
        "fitted3.summary()"
      ],
      "execution_count": null,
      "outputs": [
        {
          "output_type": "execute_result",
          "data": {
            "text/html": [
              "<table class=\"simpletable\">\n",
              "<caption>OLS Regression Results</caption>\n",
              "<tr>\n",
              "  <th>Dep. Variable:</th>        <td>Survived</td>     <th>  R-squared:         </th> <td>   0.390</td>\n",
              "</tr>\n",
              "<tr>\n",
              "  <th>Model:</th>                   <td>OLS</td>       <th>  Adj. R-squared:    </th> <td>   0.386</td>\n",
              "</tr>\n",
              "<tr>\n",
              "  <th>Method:</th>             <td>Least Squares</td>  <th>  F-statistic:       </th> <td>   94.09</td>\n",
              "</tr>\n",
              "<tr>\n",
              "  <th>Date:</th>             <td>Fri, 04 Jun 2021</td> <th>  Prob (F-statistic):</th> <td>2.38e-91</td>\n",
              "</tr>\n",
              "<tr>\n",
              "  <th>Time:</th>                 <td>06:03:24</td>     <th>  Log-Likelihood:    </th> <td> -401.95</td>\n",
              "</tr>\n",
              "<tr>\n",
              "  <th>No. Observations:</th>      <td>   891</td>      <th>  AIC:               </th> <td>   817.9</td>\n",
              "</tr>\n",
              "<tr>\n",
              "  <th>Df Residuals:</th>          <td>   884</td>      <th>  BIC:               </th> <td>   851.4</td>\n",
              "</tr>\n",
              "<tr>\n",
              "  <th>Df Model:</th>              <td>     6</td>      <th>                     </th>     <td> </td>   \n",
              "</tr>\n",
              "<tr>\n",
              "  <th>Covariance Type:</th>      <td>nonrobust</td>    <th>                     </th>     <td> </td>   \n",
              "</tr>\n",
              "</table>\n",
              "<table class=\"simpletable\">\n",
              "<tr>\n",
              "       <td></td>         <th>coef</th>     <th>std err</th>      <th>t</th>      <th>P>|t|</th>  <th>[0.025</th>    <th>0.975]</th>  \n",
              "</tr>\n",
              "<tr>\n",
              "  <th>Intercept</th>  <td>    1.3168</td> <td>    0.072</td> <td>   18.334</td> <td> 0.000</td> <td>    1.176</td> <td>    1.458</td>\n",
              "</tr>\n",
              "<tr>\n",
              "  <th>Pclass</th>     <td>   -0.1709</td> <td>    0.019</td> <td>   -8.779</td> <td> 0.000</td> <td>   -0.209</td> <td>   -0.133</td>\n",
              "</tr>\n",
              "<tr>\n",
              "  <th>Age1</th>       <td>   -0.0047</td> <td>    0.001</td> <td>   -4.757</td> <td> 0.000</td> <td>   -0.007</td> <td>   -0.003</td>\n",
              "</tr>\n",
              "<tr>\n",
              "  <th>Embarked11</th> <td>   -0.0388</td> <td>    0.017</td> <td>   -2.318</td> <td> 0.021</td> <td>   -0.072</td> <td>   -0.006</td>\n",
              "</tr>\n",
              "<tr>\n",
              "  <th>Parch</th>      <td>   -0.0359</td> <td>    0.017</td> <td>   -2.093</td> <td> 0.037</td> <td>   -0.070</td> <td>   -0.002</td>\n",
              "</tr>\n",
              "<tr>\n",
              "  <th>Fare</th>       <td>    0.0001</td> <td>    0.000</td> <td>    0.446</td> <td> 0.656</td> <td>   -0.000</td> <td>    0.001</td>\n",
              "</tr>\n",
              "<tr>\n",
              "  <th>Sex1</th>       <td>   -0.5105</td> <td>    0.028</td> <td>  -18.164</td> <td> 0.000</td> <td>   -0.566</td> <td>   -0.455</td>\n",
              "</tr>\n",
              "</table>\n",
              "<table class=\"simpletable\">\n",
              "<tr>\n",
              "  <th>Omnibus:</th>       <td>37.465</td> <th>  Durbin-Watson:     </th> <td>   1.921</td>\n",
              "</tr>\n",
              "<tr>\n",
              "  <th>Prob(Omnibus):</th> <td> 0.000</td> <th>  Jarque-Bera (JB):  </th> <td>  41.361</td>\n",
              "</tr>\n",
              "<tr>\n",
              "  <th>Skew:</th>          <td> 0.527</td> <th>  Prob(JB):          </th> <td>1.04e-09</td>\n",
              "</tr>\n",
              "<tr>\n",
              "  <th>Kurtosis:</th>      <td> 3.070</td> <th>  Cond. No.          </th> <td>    360.</td>\n",
              "</tr>\n",
              "</table><br/><br/>Warnings:<br/>[1] Standard Errors assume that the covariance matrix of the errors is correctly specified."
            ],
            "text/plain": [
              "<class 'statsmodels.iolib.summary.Summary'>\n",
              "\"\"\"\n",
              "                            OLS Regression Results                            \n",
              "==============================================================================\n",
              "Dep. Variable:               Survived   R-squared:                       0.390\n",
              "Model:                            OLS   Adj. R-squared:                  0.386\n",
              "Method:                 Least Squares   F-statistic:                     94.09\n",
              "Date:                Fri, 04 Jun 2021   Prob (F-statistic):           2.38e-91\n",
              "Time:                        06:03:24   Log-Likelihood:                -401.95\n",
              "No. Observations:                 891   AIC:                             817.9\n",
              "Df Residuals:                     884   BIC:                             851.4\n",
              "Df Model:                           6                                         \n",
              "Covariance Type:            nonrobust                                         \n",
              "==============================================================================\n",
              "                 coef    std err          t      P>|t|      [0.025      0.975]\n",
              "------------------------------------------------------------------------------\n",
              "Intercept      1.3168      0.072     18.334      0.000       1.176       1.458\n",
              "Pclass        -0.1709      0.019     -8.779      0.000      -0.209      -0.133\n",
              "Age1          -0.0047      0.001     -4.757      0.000      -0.007      -0.003\n",
              "Embarked11    -0.0388      0.017     -2.318      0.021      -0.072      -0.006\n",
              "Parch         -0.0359      0.017     -2.093      0.037      -0.070      -0.002\n",
              "Fare           0.0001      0.000      0.446      0.656      -0.000       0.001\n",
              "Sex1          -0.5105      0.028    -18.164      0.000      -0.566      -0.455\n",
              "==============================================================================\n",
              "Omnibus:                       37.465   Durbin-Watson:                   1.921\n",
              "Prob(Omnibus):                  0.000   Jarque-Bera (JB):               41.361\n",
              "Skew:                           0.527   Prob(JB):                     1.04e-09\n",
              "Kurtosis:                       3.070   Cond. No.                         360.\n",
              "==============================================================================\n",
              "\n",
              "Warnings:\n",
              "[1] Standard Errors assume that the covariance matrix of the errors is correctly specified.\n",
              "\"\"\""
            ]
          },
          "metadata": {
            "tags": []
          },
          "execution_count": 18
        }
      ]
    },
    {
      "cell_type": "markdown",
      "metadata": {
        "id": "jRUY0apAsXto"
      },
      "source": [
        "**Covariance** Type is listed as nonrobust. Covariance is a measure of how two variables are linked in a positive or negative manner, and a robust covariance is one that is calculated in a way to minimize or eliminate variables, which is not the case here.\n",
        "\n",
        "**R-squared** is possibly the most important measurement produced by this summary. R-squared is the measurement of how much of the independent variable is explained by changes in our dependent variables. In percentage terms, 0.39 would mean our model explains 39.0% of the change in our 'Survived' variable.\n",
        "\n",
        " **F-statistic** in linear regression is comparing your produced linear model for your variables against a model that replaces your variables’ effect to 0, to find out if your group of variables are statistically significant. To interpret this number correctly, using a chosen alpha value and an F-table is necessary. **Prob (F-Statistic)** uses this number to tell you the accuracy of the null hypothesis, or whether it is accurate that your variables’ effect is 0. In this case, it is telling us 2.38e-91 chance of this. Log-likelihood is a numerical signifier of the likelihood that your produced model produced the given data. It is used to compare coefficient values for each variable in the process of creating the model.\n",
        " \n",
        "** Akaike's Information Criteria (AIC) ** and  **Bayesian Information Criteria(BIC)** are both used to compare the efficacy of models in the process of linear regression, using a penalty system for measuring multiple variables. These numbers are used for feature selection of variables.\n",
        "\n",
        "**Omnibus** describes the normalcy of the distribution of our residuals using skew and kurtosis as measurements. A 0 would indicate perfect normalcy. Prob(Omnibus) is a statistical test measuring the probability the residuals are normally distributed. A 1 would indicate perfectly normal distribution. \n",
        "**Skew** is a measurement of symmetry in our data, with 0 being perfect symmetry. \n",
        "**Kurtosis** measures the peakiness of our data, or its concentration around 0 in a normal curve. Higher kurtosis implies fewer outliers.\n",
        "\n",
        "**Durbin-Watson** is a measurement of homoscedasticity, or an even distribution of errors throughout our data. Heteroscedasticity would imply an uneven distribution, for example as the data point grows higher the relative error grows higher. Ideal homoscedasticity will lie between 1 and 2. \n",
        "**Jarque-Bera (JB)** and Prob(JB) are alternate methods of measuring the same value as Omnibus and Prob(Omnibus) using skewness and kurtosis. We use these values to confirm each other. Condition number is a measurement of the sensitivity of our model as compared to the size of changes in the data it is analyzing. Multicollinearity is strongly implied by a high condition number. Multicollinearity a term to describe two or more independent variables that are strongly related to each other and are falsely affecting our predicted variable by redundancy."
      ]
    },
    {
      "cell_type": "markdown",
      "metadata": {
        "id": "Lg0n5gxFGIAp"
      },
      "source": [
        "Distribution"
      ]
    },
    {
      "cell_type": "code",
      "metadata": {
        "id": "choY0uWRPIBq"
      },
      "source": [
        ""
      ],
      "execution_count": null,
      "outputs": []
    },
    {
      "cell_type": "code",
      "metadata": {
        "id": "4GsY7UzLLMLG"
      },
      "source": [
        "import seaborn as sns"
      ],
      "execution_count": null,
      "outputs": []
    },
    {
      "cell_type": "code",
      "metadata": {
        "colab": {
          "base_uri": "https://localhost:8080/",
          "height": 606
        },
        "id": "_9-L_hXOPJXq",
        "outputId": "dcac7920-43ec-4499-ca74-dd5462ff0e62"
      },
      "source": [
        "## Let's look at the his\n",
        "plt.subplots(figsize = (12,10),)\n",
        "sns.distplot(train_data.Age, bins = 100, kde = True, rug = False, norm_hist=False);"
      ],
      "execution_count": null,
      "outputs": [
        {
          "output_type": "display_data",
          "data": {
            "image/png": "[encoded data removed]",
            "text/plain": [
              "<Figure size 864x720 with 1 Axes>"
            ]
          },
          "metadata": {
            "tags": [],
            "needs_background": "light"
          }
        }
      ]
    },
    {
      "cell_type": "code",
      "metadata": {
        "colab": {
          "base_uri": "https://localhost:8080/",
          "height": 606
        },
        "id": "Hz0XhUL0PZwm",
        "outputId": "0e62284b-1812-462c-df8e-8d069f5977d5"
      },
      "source": [
        "plt.subplots(figsize = (12,10),)\n",
        "sns.kdeplot(train_data.Age,color='gray',shade=True);"
      ],
      "execution_count": null,
      "outputs": [
        {
          "output_type": "display_data",
          "data": {
            "image/png": "[encoded data removed]",
            "text/plain": [
              "<Figure size 864x720 with 1 Axes>"
            ]
          },
          "metadata": {
            "tags": [],
            "needs_background": "light"
          }
        }
      ]
    },
    {
      "cell_type": "code",
      "metadata": {
        "id": "5ILitHOEPVEg"
      },
      "source": [
        ""
      ],
      "execution_count": null,
      "outputs": []
    },
    {
      "cell_type": "code",
      "metadata": {
        "colab": {
          "base_uri": "https://localhost:8080/",
          "height": 577
        },
        "id": "GT2tDevETI-l",
        "outputId": "186c3907-6c33-4f18-f930-be0e5a35d1d2"
      },
      "source": [
        "\n",
        "# Kernel Density Plot\n",
        "fig = plt.figure(figsize=(15,8),)\n",
        "## I have included to different ways to code a plot below, choose the one that suites you. \n",
        "ax=sns.kdeplot(train_data.Pclass[train_data.Survived == 0] , \n",
        "               color='gray',\n",
        "               shade=True,\n",
        "               label='not survived')\n",
        "ax=sns.kdeplot(train_data.loc[(train_data['Survived'] == 1),'Pclass'] , \n",
        "               color='g',\n",
        "               shade=True, \n",
        "               label='survived', \n",
        "              )\n",
        "plt.title('Passenger Class Distribution - Survived vs Non-Survived', fontsize = 25, pad = 40)\n",
        "plt.ylabel(\"Frequency of Passenger Survived\", fontsize = 15, labelpad = 20)\n",
        "plt.xlabel(\"Passenger Class\", fontsize = 15,labelpad =20)\n",
        "## Converting xticks into words for better understanding\n",
        "labels = ['Upperd', 'Middle', 'Lower']\n",
        "plt.xticks(sorted(train_data.Pclass.unique()), labels);"
      ],
      "execution_count": null,
      "outputs": [
        {
          "output_type": "display_data",
          "data": {
            "image/png": "[encoded data removed]",
            "text/plain": [
              "<Figure size 1080x576 with 1 Axes>"
            ]
          },
          "metadata": {
            "tags": [],
            "needs_background": "light"
          }
        }
      ]
    },
    {
      "cell_type": "markdown",
      "metadata": {
        "id": "kI-JbRORTrj-"
      },
      "source": [
        "This KDE plot is pretty self-explanatory with all the labels and colors. Something I have noticed that some readers might find questionable is that the lower class passengers have survived more than second-class passengers. It is true since there were a lot more third-class passengers than first and second.\n",
        "\n",
        "Summary\n",
        "\n",
        "The first class passengers had the upper hand during the tragedy. You can probably agree with me more on this, in the next section of visualizations where we look at the distribution of ticket fare and survived column."
      ]
    },
    {
      "cell_type": "code",
      "metadata": {
        "colab": {
          "base_uri": "https://localhost:8080/",
          "height": 577
        },
        "id": "mqJnPGHCcj0n",
        "outputId": "77dd450d-3197-4361-8327-dc36b9f6fe06"
      },
      "source": [
        "# Kernel Density Plot\n",
        "fig = plt.figure(figsize=(15,8),)\n",
        "ax=sns.kdeplot(train_data.loc[(train_data['Survived'] == 0),'Fare'] , color='gray',shade=True,label='not survived')\n",
        "ax=sns.kdeplot(train_data.loc[(train_data['Survived'] == 1),'Fare'] , color='g',shade=True, label='survived')\n",
        "plt.title('Fare Distribution Survived vs Non Survived', fontsize = 25, pad = 40)\n",
        "plt.ylabel(\"Frequency of Passenger Survived\", fontsize = 15, labelpad = 20)\n",
        "plt.xlabel(\"Fare\", fontsize = 15, labelpad = 20);"
      ],
      "execution_count": null,
      "outputs": [
        {
          "output_type": "display_data",
          "data": {
            "image/png": "[encoded data removed]",
            "text/plain": [
              "<Figure size 1080x576 with 1 Axes>"
            ]
          },
          "metadata": {
            "tags": [],
            "needs_background": "light"
          }
        }
      ]
    },
    {
      "cell_type": "markdown",
      "metadata": {
        "id": "mnGMhdgKT5At"
      },
      "source": [
        "This plot shows something impressive..\n",
        "\n",
        "The spike in the plot under 100 dollar represents that a lot of passengers who bought the ticket within that range did not survive.\n",
        "When fare is approximately more than 280 dollars, there is no gray shade which means, either everyone passed that fare point survived or maybe there is an outlier that clouds our judgment."
      ]
    },
    {
      "cell_type": "code",
      "metadata": {
        "id": "GtPlslTXGVlJ",
        "colab": {
          "base_uri": "https://localhost:8080/",
          "height": 577
        },
        "outputId": "05b5039d-7195-459c-897f-671e0ab64dce"
      },
      "source": [
        "# Kernel Density Plot\n",
        "from scipy.stats import norm\n",
        "fig = plt.figure(figsize=(15,8),)\n",
        "ax=sns.distplot(train_data.loc[(train_data['Survived'] == 0),'Age'] , fit=norm, color='#56F9BB',label='not survived')\n",
        "ax=sns.distplot(train_data.loc[(train_data['Survived'] == 1),'Age'] ,fit=norm, color='r', label='survived')\n",
        "plt.title('Fare Distribution Survived vs Non Survived', fontsize = 25, pad = 40)\n",
        "plt.ylabel(\"Frequency of Passenger Survived\", fontsize = 15, labelpad = 20)\n",
        "plt.xlabel(\"Age\", fontsize = 15, labelpad = 20);"
      ],
      "execution_count": null,
      "outputs": [
        {
          "output_type": "display_data",
          "data": {
            "image/png": "[encoded data removed]",
            "text/plain": [
              "<Figure size 1080x576 with 1 Axes>"
            ]
          },
          "metadata": {
            "tags": [],
            "needs_background": "light"
          }
        }
      ]
    },
    {
      "cell_type": "markdown",
      "metadata": {
        "id": "ojklpCy9Td_r"
      },
      "source": [
        "\n",
        "\n",
        "```\n",
        "# This is formatted as code\n",
        "```\n",
        "\n"
      ]
    },
    {
      "cell_type": "markdown",
      "metadata": {
        "id": "hM8H4zW3-uBY"
      },
      "source": [
        "####Hypotheses Testing"
      ]
    },
    {
      "cell_type": "markdown",
      "metadata": {
        "id": "chDVyyM3-8F8"
      },
      "source": [
        "The Medical Rehabilitation Education Foundation reports that the average cost of rehabilitation for stroke victims is 24,672 dollars.To see if the average cost of rehabilitation is different at a large hospital, a researcher selected a random sample of 35 stroke victims and found that the average cost of their rehabilitation is 25,226 dollars.The standard deviation of the population is 3251 dollars. At α =0.01,can it be concluded that the average cost at a large hospital is different from 24,672 dollars?"
      ]
    },
    {
      "cell_type": "markdown",
      "metadata": {
        "id": "fzF6CTdW_CcY"
      },
      "source": [
        "**Two-tailed Tests**\n",
        "H0:the average cost at a large hospital is not different from 24,672 dollars\n",
        "\n",
        "H1:the average cost at a large hospital is different from 24,672 dollars (the claim)\n",
        "\n",
        "H0: μ = 24,672 \n",
        "\n",
        "H1: μ ≠ 24,672(claim)"
      ]
    },
    {
      "cell_type": "markdown",
      "metadata": {
        "id": "fSH7fcHkATHL"
      },
      "source": [
        "Find the critical value(s)"
      ]
    },
    {
      "cell_type": "code",
      "metadata": {
        "id": "dXMuEw_2LhFc",
        "colab": {
          "base_uri": "https://localhost:8080/"
        },
        "outputId": "6051112c-85bb-4dbf-f911-23bbe8520e99"
      },
      "source": [
        "#import scipy package for statistical operations\n",
        "import scipy.stats as st\n",
        "\n",
        "#Since α =0.01,and the test is a two tailled test,the α of two tailed test is computed as\n",
        "α =0.01\n",
        "α_two_tailled = α/2\n",
        "\n",
        "#Thus the critical value is given by:\n",
        "#Since it is a two-tailled test, the critical values are –2.576 and +2.576\n",
        "print('The critical values are:',round(st.norm.ppf(1-(α_two_tailled)),3),'and', -(round(st.norm.ppf(1-(α_two_tailled)),3)))\n"
      ],
      "execution_count": null,
      "outputs": [
        {
          "output_type": "stream",
          "text": [
            "The critical values are: 2.576 and -2.576\n"
          ],
          "name": "stdout"
        }
      ]
    },
    {
      "cell_type": "markdown",
      "metadata": {
        "id": "fbDzYfS8AfD4"
      },
      "source": [
        "**Compute the test value**"
      ]
    },
    {
      "cell_type": "code",
      "metadata": {
        "colab": {
          "base_uri": "https://localhost:8080/"
        },
        "id": "29H837nlAX-K",
        "outputId": "c4f1eeaf-62d0-4252-fab9-2da1639e10a3"
      },
      "source": [
        "%matplotlib inline\n",
        "import pandas as pd\n",
        "import numpy as np\n",
        "import math as mt\n",
        "import statistics as sts\n",
        "from scipy import stats as st\n",
        "import matplotlib.pyplot as plt\n",
        "\n",
        "\n",
        "z=round((25226-24672)/(3251/ mt.sqrt(35)),2)\n",
        "#To test value\n",
        "print('The test value is',z)"
      ],
      "execution_count": null,
      "outputs": [
        {
          "output_type": "stream",
          "text": [
            "The test value is 1.01\n"
          ],
          "name": "stdout"
        }
      ]
    },
    {
      "cell_type": "markdown",
      "metadata": {
        "id": "YYgLzPjvA7Ew"
      },
      "source": [
        "**Visualize it on normal distribution graph**"
      ]
    },
    {
      "cell_type": "code",
      "metadata": {
        "colab": {
          "base_uri": "https://localhost:8080/",
          "height": 446
        },
        "id": "8IbAq9QOAv4Y",
        "outputId": "b23cb728-cf9e-4ba4-90fa-ee8e75014f3c"
      },
      "source": [
        "#To plot a normal graph of size (12,7) with x-axis from -3 to 3 and colour the graph green with colour intensity of 0.8\n",
        "\n",
        "plt.figure(figsize=(12,7))\n",
        "plt.plot(np.arange(-3,-1,0.01),st.norm.pdf(np.arange(-3,-1,0.01)),'g')\n",
        "plt.fill_between(x=np.arange(-3,-1,0.01), \n",
        "                 y1= st.norm.pdf(np.arange(-3,-1,0.01)) ,\n",
        "                 facecolor='white',\n",
        "                 alpha=0.8)\n",
        "plt.plot(np.arange(-1,1,0.01),st.norm.pdf(np.arange(-1,1,0.01)),'g')\n",
        "plt.fill_between(x=np.arange(-1,1,0.01), \n",
        "                 y1= st.norm.pdf(np.arange(-1,1,0.01)) ,\n",
        "                 facecolor='white',\n",
        "                 alpha=0.8)\n",
        "plt.plot(np.arange(1,3,0.01),st.norm.pdf(np.arange(1,3,0.01)),'g')\n",
        "plt.fill_between(x=np.arange(1,3,0.01), \n",
        "                 y1= st.norm.pdf(np.arange(1,3,0.01)) ,\n",
        "                 facecolor='white',\n",
        "                 alpha=0.8)\n",
        "\n",
        "#To show the two separate visualization since it is two-tailled\n",
        "    \n",
        "#To draw a yellow line to show the p-value and the z calculated of the left tail \n",
        "\n",
        "plt.fill_between(x=np.arange(-z,-z+0.01,0.01), \n",
        "                 y1= st.norm.pdf(np.arange(-z,-z+0.01,0.01)) ,\n",
        "                 facecolor='yellow')\n",
        "\n",
        "#To fill red colour on the left hand side critical area\n",
        "\n",
        "plt.fill_between(x=np.arange(-3,-2.576,0.01), \n",
        "                 y1= st.norm.pdf(np.arange(-3,-2.576,0.01)) ,\n",
        "                 facecolor='red',\n",
        "                 alpha=0.8)\n",
        "\n",
        "#To draw an orange line to show the p-value and the z calculated of the right tail \n",
        "\n",
        "plt.fill_between(x=np.arange(z,z+0.01,0.01), \n",
        "                 y1= st.norm.pdf(np.arange(z,z+0.01,0.01)) ,\n",
        "                 facecolor='orange')\n",
        "\n",
        "#To fill purple colour on the right hand side critical area\n",
        "\n",
        "plt.fill_between(x=np.arange(2.576,3,0.01), \n",
        "                 y1= st.norm.pdf(np.arange(2.576,3,0.01)) ,\n",
        "                 facecolor='purple',\n",
        "                 alpha=0.8)\n",
        "\n",
        "#To lable the P-Value, Critical Z-value and the Critical Area, giving the font size of the labels on the left tail\n",
        "\n",
        "plt.text(x=-1, y=0.24, s= \"P-Value\", fontsize=12)\n",
        "plt.text(x=-2.576, y=0.02, s= \"Critical Z-value,(-2.576)\",fontsize=12)\n",
        "plt.text(x=-2.576, y=0.00, s= \"Critical Area\",fontsize=9)\n",
        "\n",
        "#To lable the P-Value, Critical Z-value and the Critical Area, giving the font size of the labels on the right tail\n",
        "#To give the title\n",
        "\n",
        "plt.text(x=1, y=0.24, s= \"P-Value\", fontsize=12)\n",
        "plt.text(x=2.576, y=0.02, s= \"Critical Z-value,(2.576)\",fontsize=12)\n",
        "plt.text(x=3, y=0.00, s= \"Critical Area\",fontsize=9)\n",
        "plt.title(\"Normal Distribution Graph\",fontsize=15)\n",
        "plt.show()"
      ],
      "execution_count": null,
      "outputs": [
        {
          "output_type": "display_data",
          "data": {
            "image/png": "[encoded data removed]",
            "text/plain": [
              "<Figure size 864x504 with 1 Axes>"
            ]
          },
          "metadata": {
            "tags": [],
            "needs_background": "light"
          }
        }
      ]
    },
    {
      "cell_type": "code",
      "metadata": {
        "id": "LdLlEHIcBD26"
      },
      "source": [
        ""
      ],
      "execution_count": null,
      "outputs": []
    }
  ]
}